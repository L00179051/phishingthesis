{
 "cells": [
  {
   "cell_type": "markdown",
   "metadata": {
    "id": "jjBLRRXkxarS"
   },
   "source": [
    "### DT Model Implementation with Data1"
   ]
  },
  {
   "cell_type": "code",
   "execution_count": 30,
   "metadata": {
    "executionInfo": {
     "elapsed": 1251,
     "status": "ok",
     "timestamp": 1733312786086,
     "user": {
      "displayName": "jadaprojects14",
      "userId": "14814344427468355287"
     },
     "user_tz": -330
    },
    "id": "v5YXtfH-iy_O"
   },
   "outputs": [],
   "source": [
    "import pandas as cloudEmail_pns\n",
    "import warnings as cloudEmail_wns\n",
    "cloudEmail_wns.filterwarnings('ignore')\n",
    "import matplotlib.pyplot as cloudEmail_mpt"
   ]
  },
  {
   "cell_type": "code",
   "execution_count": 31,
   "metadata": {
    "colab": {
     "base_uri": "https://localhost:8080/",
     "height": 423
    },
    "executionInfo": {
     "elapsed": 1357,
     "status": "ok",
     "timestamp": 1733312787431,
     "user": {
      "displayName": "jadaprojects14",
      "userId": "14814344427468355287"
     },
     "user_tz": -330
    },
    "id": "4pI8cGn4izCy",
    "outputId": "eeea3ee1-3052-4d71-af3c-ce1f282f77b9"
   },
   "outputs": [
    {
     "data": {
      "text/html": [
       "<div>\n",
       "<style scoped>\n",
       "    .dataframe tbody tr th:only-of-type {\n",
       "        vertical-align: middle;\n",
       "    }\n",
       "\n",
       "    .dataframe tbody tr th {\n",
       "        vertical-align: top;\n",
       "    }\n",
       "\n",
       "    .dataframe thead th {\n",
       "        text-align: right;\n",
       "    }\n",
       "</style>\n",
       "<table border=\"1\" class=\"dataframe\">\n",
       "  <thead>\n",
       "    <tr style=\"text-align: right;\">\n",
       "      <th></th>\n",
       "      <th>Email Text</th>\n",
       "      <th>Email Type</th>\n",
       "    </tr>\n",
       "  </thead>\n",
       "  <tbody>\n",
       "    <tr>\n",
       "      <th>0</th>\n",
       "      <td>disc uniformitarianism sex lang dick hudson ob...</td>\n",
       "      <td>1</td>\n",
       "    </tr>\n",
       "    <tr>\n",
       "      <th>1</th>\n",
       "      <td>side galicismos galicismo spanish term names i...</td>\n",
       "      <td>1</td>\n",
       "    </tr>\n",
       "    <tr>\n",
       "      <th>2</th>\n",
       "      <td>equistar deal tickets still available assist r...</td>\n",
       "      <td>1</td>\n",
       "    </tr>\n",
       "    <tr>\n",
       "      <th>3</th>\n",
       "      <td>hello hot lil horny toy one dream open minded ...</td>\n",
       "      <td>0</td>\n",
       "    </tr>\n",
       "    <tr>\n",
       "      <th>4</th>\n",
       "      <td>software incredibly low prices lower drapery s...</td>\n",
       "      <td>0</td>\n",
       "    </tr>\n",
       "    <tr>\n",
       "      <th>...</th>\n",
       "      <td>...</td>\n",
       "      <td>...</td>\n",
       "    </tr>\n",
       "    <tr>\n",
       "      <th>17533</th>\n",
       "      <td>rick moen crit confused thought gpl ed money p...</td>\n",
       "      <td>1</td>\n",
       "    </tr>\n",
       "    <tr>\n",
       "      <th>17534</th>\n",
       "      <td>date lonely housewife always wanted date lonel...</td>\n",
       "      <td>0</td>\n",
       "    </tr>\n",
       "    <tr>\n",
       "      <th>17535</th>\n",
       "      <td>request submitted access request anita dupont ...</td>\n",
       "      <td>1</td>\n",
       "    </tr>\n",
       "    <tr>\n",
       "      <th>17536</th>\n",
       "      <td>important prc mtg hi dorn john discovered rece...</td>\n",
       "      <td>1</td>\n",
       "    </tr>\n",
       "    <tr>\n",
       "      <th>17537</th>\n",
       "      <td>press clippings letter californian utilities p...</td>\n",
       "      <td>1</td>\n",
       "    </tr>\n",
       "  </tbody>\n",
       "</table>\n",
       "<p>17538 rows × 2 columns</p>\n",
       "</div>"
      ],
      "text/plain": [
       "                                              Email Text  Email Type\n",
       "0      disc uniformitarianism sex lang dick hudson ob...           1\n",
       "1      side galicismos galicismo spanish term names i...           1\n",
       "2      equistar deal tickets still available assist r...           1\n",
       "3      hello hot lil horny toy one dream open minded ...           0\n",
       "4      software incredibly low prices lower drapery s...           0\n",
       "...                                                  ...         ...\n",
       "17533  rick moen crit confused thought gpl ed money p...           1\n",
       "17534  date lonely housewife always wanted date lonel...           0\n",
       "17535  request submitted access request anita dupont ...           1\n",
       "17536  important prc mtg hi dorn john discovered rece...           1\n",
       "17537  press clippings letter californian utilities p...           1\n",
       "\n",
       "[17538 rows x 2 columns]"
      ]
     },
     "execution_count": 31,
     "metadata": {},
     "output_type": "execute_result"
    }
   ],
   "source": [
    "cloudEmail1 = cloudEmail_pns.read_csv('Research_data1.csv')\n",
    "cloudEmail1"
   ]
  },
  {
   "cell_type": "code",
   "execution_count": 32,
   "metadata": {
    "colab": {
     "base_uri": "https://localhost:8080/"
    },
    "executionInfo": {
     "elapsed": 33,
     "status": "ok",
     "timestamp": 1733312787432,
     "user": {
      "displayName": "jadaprojects14",
      "userId": "14814344427468355287"
     },
     "user_tz": -330
    },
    "id": "CZEiMKvrizGO",
    "outputId": "b6b9d808-b214-4726-9896-09e5f723ed5e"
   },
   "outputs": [
    {
     "name": "stdout",
     "output_type": "stream",
     "text": [
      "<class 'pandas.core.frame.DataFrame'>\n",
      "RangeIndex: 17538 entries, 0 to 17537\n",
      "Data columns (total 2 columns):\n",
      " #   Column      Non-Null Count  Dtype \n",
      "---  ------      --------------  ----- \n",
      " 0   Email Text  17536 non-null  object\n",
      " 1   Email Type  17538 non-null  int64 \n",
      "dtypes: int64(1), object(1)\n",
      "memory usage: 274.2+ KB\n"
     ]
    }
   ],
   "source": [
    "cloudEmail1.info()  ##---- Information"
   ]
  },
  {
   "cell_type": "code",
   "execution_count": 33,
   "metadata": {
    "colab": {
     "base_uri": "https://localhost:8080/",
     "height": 178
    },
    "executionInfo": {
     "elapsed": 30,
     "status": "ok",
     "timestamp": 1733312787433,
     "user": {
      "displayName": "jadaprojects14",
      "userId": "14814344427468355287"
     },
     "user_tz": -330
    },
    "id": "OyIFS2N2j6q5",
    "outputId": "d7b59440-c895-44d6-f4f7-cdf10c26e834"
   },
   "outputs": [
    {
     "data": {
      "text/plain": [
       "Email Type\n",
       "1    10980\n",
       "0     6558\n",
       "Name: count, dtype: int64"
      ]
     },
     "execution_count": 33,
     "metadata": {},
     "output_type": "execute_result"
    }
   ],
   "source": [
    "cloudEmail1['Email Type'].value_counts()"
   ]
  },
  {
   "cell_type": "code",
   "execution_count": 34,
   "metadata": {
    "colab": {
     "base_uri": "https://localhost:8080/",
     "height": 146
    },
    "executionInfo": {
     "elapsed": 24,
     "status": "ok",
     "timestamp": 1733312787433,
     "user": {
      "displayName": "jadaprojects14",
      "userId": "14814344427468355287"
     },
     "user_tz": -330
    },
    "id": "6zyE7MoVkQPj",
    "outputId": "c473ba28-e898-48b5-cc12-a868f6d737db"
   },
   "outputs": [
    {
     "data": {
      "text/plain": [
       "Email Text    2\n",
       "Email Type    0\n",
       "dtype: int64"
      ]
     },
     "execution_count": 34,
     "metadata": {},
     "output_type": "execute_result"
    }
   ],
   "source": [
    "cloudEmail1.isnull().sum()  ##---- Missing Values for each column"
   ]
  },
  {
   "cell_type": "code",
   "execution_count": 35,
   "metadata": {
    "colab": {
     "base_uri": "https://localhost:8080/"
    },
    "executionInfo": {
     "elapsed": 36199,
     "status": "ok",
     "timestamp": 1733312823611,
     "user": {
      "displayName": "jadaprojects14",
      "userId": "14814344427468355287"
     },
     "user_tz": -330
    },
    "id": "9PKCqfpoizJE",
    "outputId": "fe82d580-39f6-46d9-e217-b323a7633115"
   },
   "outputs": [
    {
     "name": "stdout",
     "output_type": "stream",
     "text": [
      "Research Data1 Numerical Dimensions are :  (17536, 147793)\n",
      "\n",
      "Email Phishing Data1  Counter({1: 10980, 0: 6556})\n",
      "Balanced Email Phishing Data1 Counter({1: 10980, 0: 10980})\n"
     ]
    }
   ],
   "source": [
    "from collections import Counter as cloudEmail_balanceCount\n",
    "from imblearn.over_sampling import SMOTE as cloudEmail_balanceSmote\n",
    "from sklearn.feature_extraction.text import TfidfVectorizer as cloudEmail_TFVNumerical\n",
    "\n",
    "cloudEmail1.dropna(subset=['Email Text'], inplace=True)\n",
    "cloudEmail_X1 = cloudEmail1['Email Text']\n",
    "cloudEmail_y1 = cloudEmail1['Email Type']\n",
    "\n",
    "cloudTFMod = cloudEmail_TFVNumerical(analyzer='word', ngram_range=(1, 1))\n",
    "cloudEmail_X1 = cloudTFMod.fit_transform(cloudEmail_X1)\n",
    "print(\"Research Data1 Numerical Dimensions are : \", cloudEmail_X1.shape)\n",
    "\n",
    "print('\\nEmail Phishing Data1  %s' % cloudEmail_balanceCount(cloudEmail_y1))\n",
    "cloudEmod = cloudEmail_balanceSmote()\n",
    "cloudEmail_X1, cloudEmail_y1 = cloudEmod.fit_resample(cloudEmail_X1, cloudEmail_y1)\n",
    "import joblib \n",
    "print('Balanced Email Phishing Data1 %s' % cloudEmail_balanceCount(cloudEmail_y1))"
   ]
  },
  {
   "cell_type": "code",
   "execution_count": 36,
   "metadata": {},
   "outputs": [
    {
     "name": "stdout",
     "output_type": "stream",
     "text": [
      "TfidfVectorizer model saved as TfidfVectorizer_Model.h5\n"
     ]
    }
   ],
   "source": [
    "import joblib \n",
    "\n",
    "joblib.dump(cloudTFMod, \"TfidfVectorizer_Model.h5\")\n",
    "print(\"TfidfVectorizer model saved as TfidfVectorizer_Model.h5\")\n",
    "\n",
    "loaded_TFIDF = joblib.load(\"TfidfVectorizer_Model.h5\")"
   ]
  },
  {
   "cell_type": "code",
   "execution_count": 37,
   "metadata": {
    "colab": {
     "base_uri": "https://localhost:8080/"
    },
    "executionInfo": {
     "elapsed": 8,
     "status": "ok",
     "timestamp": 1733312823611,
     "user": {
      "displayName": "jadaprojects14",
      "userId": "14814344427468355287"
     },
     "user_tz": -330
    },
    "id": "MoRHscmNndrh",
    "outputId": "60f0dd0a-c39f-41e8-ddc5-4f3b65381d09"
   },
   "outputs": [
    {
     "name": "stdout",
     "output_type": "stream",
     "text": [
      "Research Data1 Dimension Shape:  (21960, 147793)\n"
     ]
    }
   ],
   "source": [
    "print(\"Research Data1 Dimension Shape: \",cloudEmail_X1.shape)"
   ]
  },
  {
   "cell_type": "code",
   "execution_count": 38,
   "metadata": {
    "colab": {
     "base_uri": "https://localhost:8080/"
    },
    "executionInfo": {
     "elapsed": 16131,
     "status": "ok",
     "timestamp": 1733312839736,
     "user": {
      "displayName": "jadaprojects14",
      "userId": "14814344427468355287"
     },
     "user_tz": -330
    },
    "id": "xDI7zOJanT7f",
    "outputId": "39019cbe-b6fd-4973-b0af-ff28d37d7b48"
   },
   "outputs": [
    {
     "name": "stdout",
     "output_type": "stream",
     "text": [
      "Research Data1 Dimension Reduction Shape:  (21960, 30)\n"
     ]
    }
   ],
   "source": [
    "from sklearn.decomposition import PCA as cloudEmail_phishPCA\n",
    "\n",
    "cloudPCA = cloudEmail_phishPCA(n_components = 30)\n",
    "cloudEmail_X1 = cloudPCA.fit_transform(cloudEmail_X1)\n",
    "print(\"Research Data1 Dimension Reduction Shape: \", cloudEmail_X1.shape)"
   ]
  },
  {
   "cell_type": "code",
   "execution_count": 39,
   "metadata": {},
   "outputs": [
    {
     "name": "stdout",
     "output_type": "stream",
     "text": [
      "PCA model saved as PCA_Model.h5\n"
     ]
    }
   ],
   "source": [
    "joblib.dump(cloudPCA, \"PCA_Model.h5\")\n",
    "print(\"PCA model saved as PCA_Model.h5\")\n",
    "\n",
    "loaded_PCA = joblib.load(\"PCA_Model.h5\")"
   ]
  },
  {
   "cell_type": "code",
   "execution_count": 40,
   "metadata": {
    "executionInfo": {
     "elapsed": 34,
     "status": "ok",
     "timestamp": 1733312839736,
     "user": {
      "displayName": "jadaprojects14",
      "userId": "14814344427468355287"
     },
     "user_tz": -330
    },
    "id": "dolwEehMbf2Z"
   },
   "outputs": [],
   "source": [
    "from sklearn.model_selection import train_test_split as cloudEmail_phishSp\n",
    "cloudEmail_X1tr, cloudEmail_X1ts, cloudEmail_y1tr, cloudEmail_y1ts = cloudEmail_phishSp(cloudEmail_X1, cloudEmail_y1, test_size=0.4, random_state=32)"
   ]
  },
  {
   "cell_type": "code",
   "execution_count": 41,
   "metadata": {
    "colab": {
     "base_uri": "https://localhost:8080/"
    },
    "executionInfo": {
     "elapsed": 32,
     "status": "ok",
     "timestamp": 1733312839736,
     "user": {
      "displayName": "jadaprojects14",
      "userId": "14814344427468355287"
     },
     "user_tz": -330
    },
    "id": "Ut68dpzDcq4J",
    "outputId": "90aef8fc-13bf-4789-937c-6c3a2f564c65"
   },
   "outputs": [
    {
     "name": "stdout",
     "output_type": "stream",
     "text": [
      "60% Train Data1 (13176, 30)\n",
      "40% Test Data1 (8784, 30)\n"
     ]
    }
   ],
   "source": [
    "print(\"60% Train Data1\",cloudEmail_X1tr.shape)\n",
    "print(\"40% Test Data1\",cloudEmail_X1ts.shape)"
   ]
  },
  {
   "cell_type": "code",
   "execution_count": 42,
   "metadata": {
    "executionInfo": {
     "elapsed": 29,
     "status": "ok",
     "timestamp": 1733312839736,
     "user": {
      "displayName": "jadaprojects14",
      "userId": "14814344427468355287"
     },
     "user_tz": -330
    },
    "id": "21l0tOwqizMA"
   },
   "outputs": [],
   "source": [
    "from sklearn.model_selection import RandomizedSearchCV as cloudEmail_RDSCV\n",
    "from sklearn.metrics import ConfusionMatrixDisplay as cloudEmail_phishDisp\n",
    "from sklearn.metrics import confusion_matrix as cloudEmail_phishMatx\n",
    "from sklearn.metrics import classification_report as cloudEmail_phishReport\n",
    "from sklearn import metrics as cloudEmail_phishMetr\n",
    "import time as cloudEmail_phishTime"
   ]
  },
  {
   "cell_type": "code",
   "execution_count": 43,
   "metadata": {
    "colab": {
     "base_uri": "https://localhost:8080/"
    },
    "executionInfo": {
     "elapsed": 363,
     "status": "ok",
     "timestamp": 1733312840071,
     "user": {
      "displayName": "jadaprojects14",
      "userId": "14814344427468355287"
     },
     "user_tz": -330
    },
    "id": "sNRIGF_mizO5",
    "outputId": "608b7525-9a85-45c6-fb95-070c4871b5e0"
   },
   "outputs": [
    {
     "name": "stdout",
     "output_type": "stream",
     "text": [
      "\n",
      "Randomized Search Parameters for Decision Tree:\n",
      " {'splitter': 'best', 'max_depth': 8, 'criterion': 'gini'}\n"
     ]
    }
   ],
   "source": [
    "from sklearn.tree import DecisionTreeClassifier as cloudEmail_phishDecisionTr\n",
    "cloudParameters = {'criterion':['gini','entropy','log_loss'],'splitter': ['best','random'],'max_depth': [3,4,7,8]\n",
    "                }\n",
    "cloud_EmailMod = cloudEmail_phishDecisionTr(random_state=32)\n",
    "cloud_EmailMod = cloudEmail_RDSCV(cloud_EmailMod, cloudParameters, cv=2)\n",
    "cloud_EmailMod.fit(cloudEmail_X1tr[:800], cloudEmail_y1tr[:800])\n",
    "print(\"\\nRandomized Search Parameters for Decision Tree:\\n\",cloud_EmailMod.best_params_)"
   ]
  },
  {
   "cell_type": "code",
   "execution_count": 44,
   "metadata": {
    "colab": {
     "base_uri": "https://localhost:8080/"
    },
    "executionInfo": {
     "elapsed": 2332,
     "status": "ok",
     "timestamp": 1733312842394,
     "user": {
      "displayName": "jadaprojects14",
      "userId": "14814344427468355287"
     },
     "user_tz": -330
    },
    "id": "WSkvq6YVl89_",
    "outputId": "357b1845-d21c-4a8f-ec2a-3b5b0047be4a"
   },
   "outputs": [
    {
     "name": "stdout",
     "output_type": "stream",
     "text": [
      "Time to Train Research Data1 :  0.393169641494751\n"
     ]
    }
   ],
   "source": [
    "##------ Training\n",
    "Email_STime = cloudEmail_phishTime.time()\n",
    "cloud_EmailMod = cloudEmail_phishDecisionTr(**cloud_EmailMod.best_params_)\n",
    "cloud_EmailMod.fit(cloudEmail_X1tr, cloudEmail_y1tr)\n",
    "Email_ENTime = cloudEmail_phishTime.time()\n",
    "print(\"Time to Train Research Data1 : \", Email_ENTime - Email_STime)"
   ]
  },
  {
   "cell_type": "code",
   "execution_count": 45,
   "metadata": {
    "colab": {
     "base_uri": "https://localhost:8080/",
     "height": 623
    },
    "executionInfo": {
     "elapsed": 1321,
     "status": "ok",
     "timestamp": 1733312843706,
     "user": {
      "displayName": "jadaprojects14",
      "userId": "14814344427468355287"
     },
     "user_tz": -330
    },
    "id": "XgXE3SOLizRp",
    "outputId": "57e1f911-826f-49a5-8cc4-73e5ff286029"
   },
   "outputs": [
    {
     "name": "stdout",
     "output_type": "stream",
     "text": [
      "Time to Test Research Data2 :  0.0\n",
      "              precision    recall  f1-score   support\n",
      "\n",
      "           0       0.93      0.95      0.94      4360\n",
      "           1       0.95      0.93      0.94      4424\n",
      "\n",
      "    accuracy                           0.94      8784\n",
      "   macro avg       0.94      0.94      0.94      8784\n",
      "weighted avg       0.94      0.94      0.94      8784\n",
      "\n"
     ]
    },
    {
     "data": {
      "image/png": "[encoded data removed]",
      "text/plain": [
       "<Figure size 640x480 with 2 Axes>"
      ]
     },
     "metadata": {},
     "output_type": "display_data"
    }
   ],
   "source": [
    "##------ Testing\n",
    "Email_STime = cloudEmail_phishTime.time()\n",
    "cloudEmail_yp = cloud_EmailMod.predict(cloudEmail_X1ts)\n",
    "Email_ENTime = cloudEmail_phishTime.time()\n",
    "print(\"Time to Test Research Data2 : \", Email_ENTime - Email_STime)\n",
    "\n",
    "print(cloudEmail_phishReport(cloudEmail_y1ts, cloudEmail_yp))\n",
    "cloudMx = cloudEmail_phishMatx(cloudEmail_y1ts, cloudEmail_yp)\n",
    "cloudEmail_phishDisp(confusion_matrix = cloudMx, display_labels = [0,1]).plot(cmap='PiYG')\n",
    "cloudEmail_mpt.show()"
   ]
  },
  {
   "cell_type": "code",
   "execution_count": 46,
   "metadata": {
    "colab": {
     "base_uri": "https://localhost:8080/",
     "height": 80
    },
    "executionInfo": {
     "elapsed": 345,
     "status": "ok",
     "timestamp": 1733312871526,
     "user": {
      "displayName": "jadaprojects14",
      "userId": "14814344427468355287"
     },
     "user_tz": -330
    },
    "id": "tfGihfYW4YbT",
    "outputId": "a47f17b3-8344-401a-8b24-334c6c8d0e8c"
   },
   "outputs": [
    {
     "data": {
      "text/html": [
       "<style>#sk-container-id-2 {\n",
       "  /* Definition of color scheme common for light and dark mode */\n",
       "  --sklearn-color-text: #000;\n",
       "  --sklearn-color-text-muted: #666;\n",
       "  --sklearn-color-line: gray;\n",
       "  /* Definition of color scheme for unfitted estimators */\n",
       "  --sklearn-color-unfitted-level-0: #fff5e6;\n",
       "  --sklearn-color-unfitted-level-1: #f6e4d2;\n",
       "  --sklearn-color-unfitted-level-2: #ffe0b3;\n",
       "  --sklearn-color-unfitted-level-3: chocolate;\n",
       "  /* Definition of color scheme for fitted estimators */\n",
       "  --sklearn-color-fitted-level-0: #f0f8ff;\n",
       "  --sklearn-color-fitted-level-1: #d4ebff;\n",
       "  --sklearn-color-fitted-level-2: #b3dbfd;\n",
       "  --sklearn-color-fitted-level-3: cornflowerblue;\n",
       "\n",
       "  /* Specific color for light theme */\n",
       "  --sklearn-color-text-on-default-background: var(--sg-text-color, var(--theme-code-foreground, var(--jp-content-font-color1, black)));\n",
       "  --sklearn-color-background: var(--sg-background-color, var(--theme-background, var(--jp-layout-color0, white)));\n",
       "  --sklearn-color-border-box: var(--sg-text-color, var(--theme-code-foreground, var(--jp-content-font-color1, black)));\n",
       "  --sklearn-color-icon: #696969;\n",
       "\n",
       "  @media (prefers-color-scheme: dark) {\n",
       "    /* Redefinition of color scheme for dark theme */\n",
       "    --sklearn-color-text-on-default-background: var(--sg-text-color, var(--theme-code-foreground, var(--jp-content-font-color1, white)));\n",
       "    --sklearn-color-background: var(--sg-background-color, var(--theme-background, var(--jp-layout-color0, #111)));\n",
       "    --sklearn-color-border-box: var(--sg-text-color, var(--theme-code-foreground, var(--jp-content-font-color1, white)));\n",
       "    --sklearn-color-icon: #878787;\n",
       "  }\n",
       "}\n",
       "\n",
       "#sk-container-id-2 {\n",
       "  color: var(--sklearn-color-text);\n",
       "}\n",
       "\n",
       "#sk-container-id-2 pre {\n",
       "  padding: 0;\n",
       "}\n",
       "\n",
       "#sk-container-id-2 input.sk-hidden--visually {\n",
       "  border: 0;\n",
       "  clip: rect(1px 1px 1px 1px);\n",
       "  clip: rect(1px, 1px, 1px, 1px);\n",
       "  height: 1px;\n",
       "  margin: -1px;\n",
       "  overflow: hidden;\n",
       "  padding: 0;\n",
       "  position: absolute;\n",
       "  width: 1px;\n",
       "}\n",
       "\n",
       "#sk-container-id-2 div.sk-dashed-wrapped {\n",
       "  border: 1px dashed var(--sklearn-color-line);\n",
       "  margin: 0 0.4em 0.5em 0.4em;\n",
       "  box-sizing: border-box;\n",
       "  padding-bottom: 0.4em;\n",
       "  background-color: var(--sklearn-color-background);\n",
       "}\n",
       "\n",
       "#sk-container-id-2 div.sk-container {\n",
       "  /* jupyter's `normalize.less` sets `[hidden] { display: none; }`\n",
       "     but bootstrap.min.css set `[hidden] { display: none !important; }`\n",
       "     so we also need the `!important` here to be able to override the\n",
       "     default hidden behavior on the sphinx rendered scikit-learn.org.\n",
       "     See: https://github.com/scikit-learn/scikit-learn/issues/21755 */\n",
       "  display: inline-block !important;\n",
       "  position: relative;\n",
       "}\n",
       "\n",
       "#sk-container-id-2 div.sk-text-repr-fallback {\n",
       "  display: none;\n",
       "}\n",
       "\n",
       "div.sk-parallel-item,\n",
       "div.sk-serial,\n",
       "div.sk-item {\n",
       "  /* draw centered vertical line to link estimators */\n",
       "  background-image: linear-gradient(var(--sklearn-color-text-on-default-background), var(--sklearn-color-text-on-default-background));\n",
       "  background-size: 2px 100%;\n",
       "  background-repeat: no-repeat;\n",
       "  background-position: center center;\n",
       "}\n",
       "\n",
       "/* Parallel-specific style estimator block */\n",
       "\n",
       "#sk-container-id-2 div.sk-parallel-item::after {\n",
       "  content: \"\";\n",
       "  width: 100%;\n",
       "  border-bottom: 2px solid var(--sklearn-color-text-on-default-background);\n",
       "  flex-grow: 1;\n",
       "}\n",
       "\n",
       "#sk-container-id-2 div.sk-parallel {\n",
       "  display: flex;\n",
       "  align-items: stretch;\n",
       "  justify-content: center;\n",
       "  background-color: var(--sklearn-color-background);\n",
       "  position: relative;\n",
       "}\n",
       "\n",
       "#sk-container-id-2 div.sk-parallel-item {\n",
       "  display: flex;\n",
       "  flex-direction: column;\n",
       "}\n",
       "\n",
       "#sk-container-id-2 div.sk-parallel-item:first-child::after {\n",
       "  align-self: flex-end;\n",
       "  width: 50%;\n",
       "}\n",
       "\n",
       "#sk-container-id-2 div.sk-parallel-item:last-child::after {\n",
       "  align-self: flex-start;\n",
       "  width: 50%;\n",
       "}\n",
       "\n",
       "#sk-container-id-2 div.sk-parallel-item:only-child::after {\n",
       "  width: 0;\n",
       "}\n",
       "\n",
       "/* Serial-specific style estimator block */\n",
       "\n",
       "#sk-container-id-2 div.sk-serial {\n",
       "  display: flex;\n",
       "  flex-direction: column;\n",
       "  align-items: center;\n",
       "  background-color: var(--sklearn-color-background);\n",
       "  padding-right: 1em;\n",
       "  padding-left: 1em;\n",
       "}\n",
       "\n",
       "\n",
       "/* Toggleable style: style used for estimator/Pipeline/ColumnTransformer box that is\n",
       "clickable and can be expanded/collapsed.\n",
       "- Pipeline and ColumnTransformer use this feature and define the default style\n",
       "- Estimators will overwrite some part of the style using the `sk-estimator` class\n",
       "*/\n",
       "\n",
       "/* Pipeline and ColumnTransformer style (default) */\n",
       "\n",
       "#sk-container-id-2 div.sk-toggleable {\n",
       "  /* Default theme specific background. It is overwritten whether we have a\n",
       "  specific estimator or a Pipeline/ColumnTransformer */\n",
       "  background-color: var(--sklearn-color-background);\n",
       "}\n",
       "\n",
       "/* Toggleable label */\n",
       "#sk-container-id-2 label.sk-toggleable__label {\n",
       "  cursor: pointer;\n",
       "  display: flex;\n",
       "  width: 100%;\n",
       "  margin-bottom: 0;\n",
       "  padding: 0.5em;\n",
       "  box-sizing: border-box;\n",
       "  text-align: center;\n",
       "  align-items: start;\n",
       "  justify-content: space-between;\n",
       "  gap: 0.5em;\n",
       "}\n",
       "\n",
       "#sk-container-id-2 label.sk-toggleable__label .caption {\n",
       "  font-size: 0.6rem;\n",
       "  font-weight: lighter;\n",
       "  color: var(--sklearn-color-text-muted);\n",
       "}\n",
       "\n",
       "#sk-container-id-2 label.sk-toggleable__label-arrow:before {\n",
       "  /* Arrow on the left of the label */\n",
       "  content: \"▸\";\n",
       "  float: left;\n",
       "  margin-right: 0.25em;\n",
       "  color: var(--sklearn-color-icon);\n",
       "}\n",
       "\n",
       "#sk-container-id-2 label.sk-toggleable__label-arrow:hover:before {\n",
       "  color: var(--sklearn-color-text);\n",
       "}\n",
       "\n",
       "/* Toggleable content - dropdown */\n",
       "\n",
       "#sk-container-id-2 div.sk-toggleable__content {\n",
       "  max-height: 0;\n",
       "  max-width: 0;\n",
       "  overflow: hidden;\n",
       "  text-align: left;\n",
       "  /* unfitted */\n",
       "  background-color: var(--sklearn-color-unfitted-level-0);\n",
       "}\n",
       "\n",
       "#sk-container-id-2 div.sk-toggleable__content.fitted {\n",
       "  /* fitted */\n",
       "  background-color: var(--sklearn-color-fitted-level-0);\n",
       "}\n",
       "\n",
       "#sk-container-id-2 div.sk-toggleable__content pre {\n",
       "  margin: 0.2em;\n",
       "  border-radius: 0.25em;\n",
       "  color: var(--sklearn-color-text);\n",
       "  /* unfitted */\n",
       "  background-color: var(--sklearn-color-unfitted-level-0);\n",
       "}\n",
       "\n",
       "#sk-container-id-2 div.sk-toggleable__content.fitted pre {\n",
       "  /* unfitted */\n",
       "  background-color: var(--sklearn-color-fitted-level-0);\n",
       "}\n",
       "\n",
       "#sk-container-id-2 input.sk-toggleable__control:checked~div.sk-toggleable__content {\n",
       "  /* Expand drop-down */\n",
       "  max-height: 200px;\n",
       "  max-width: 100%;\n",
       "  overflow: auto;\n",
       "}\n",
       "\n",
       "#sk-container-id-2 input.sk-toggleable__control:checked~label.sk-toggleable__label-arrow:before {\n",
       "  content: \"▾\";\n",
       "}\n",
       "\n",
       "/* Pipeline/ColumnTransformer-specific style */\n",
       "\n",
       "#sk-container-id-2 div.sk-label input.sk-toggleable__control:checked~label.sk-toggleable__label {\n",
       "  color: var(--sklearn-color-text);\n",
       "  background-color: var(--sklearn-color-unfitted-level-2);\n",
       "}\n",
       "\n",
       "#sk-container-id-2 div.sk-label.fitted input.sk-toggleable__control:checked~label.sk-toggleable__label {\n",
       "  background-color: var(--sklearn-color-fitted-level-2);\n",
       "}\n",
       "\n",
       "/* Estimator-specific style */\n",
       "\n",
       "/* Colorize estimator box */\n",
       "#sk-container-id-2 div.sk-estimator input.sk-toggleable__control:checked~label.sk-toggleable__label {\n",
       "  /* unfitted */\n",
       "  background-color: var(--sklearn-color-unfitted-level-2);\n",
       "}\n",
       "\n",
       "#sk-container-id-2 div.sk-estimator.fitted input.sk-toggleable__control:checked~label.sk-toggleable__label {\n",
       "  /* fitted */\n",
       "  background-color: var(--sklearn-color-fitted-level-2);\n",
       "}\n",
       "\n",
       "#sk-container-id-2 div.sk-label label.sk-toggleable__label,\n",
       "#sk-container-id-2 div.sk-label label {\n",
       "  /* The background is the default theme color */\n",
       "  color: var(--sklearn-color-text-on-default-background);\n",
       "}\n",
       "\n",
       "/* On hover, darken the color of the background */\n",
       "#sk-container-id-2 div.sk-label:hover label.sk-toggleable__label {\n",
       "  color: var(--sklearn-color-text);\n",
       "  background-color: var(--sklearn-color-unfitted-level-2);\n",
       "}\n",
       "\n",
       "/* Label box, darken color on hover, fitted */\n",
       "#sk-container-id-2 div.sk-label.fitted:hover label.sk-toggleable__label.fitted {\n",
       "  color: var(--sklearn-color-text);\n",
       "  background-color: var(--sklearn-color-fitted-level-2);\n",
       "}\n",
       "\n",
       "/* Estimator label */\n",
       "\n",
       "#sk-container-id-2 div.sk-label label {\n",
       "  font-family: monospace;\n",
       "  font-weight: bold;\n",
       "  display: inline-block;\n",
       "  line-height: 1.2em;\n",
       "}\n",
       "\n",
       "#sk-container-id-2 div.sk-label-container {\n",
       "  text-align: center;\n",
       "}\n",
       "\n",
       "/* Estimator-specific */\n",
       "#sk-container-id-2 div.sk-estimator {\n",
       "  font-family: monospace;\n",
       "  border: 1px dotted var(--sklearn-color-border-box);\n",
       "  border-radius: 0.25em;\n",
       "  box-sizing: border-box;\n",
       "  margin-bottom: 0.5em;\n",
       "  /* unfitted */\n",
       "  background-color: var(--sklearn-color-unfitted-level-0);\n",
       "}\n",
       "\n",
       "#sk-container-id-2 div.sk-estimator.fitted {\n",
       "  /* fitted */\n",
       "  background-color: var(--sklearn-color-fitted-level-0);\n",
       "}\n",
       "\n",
       "/* on hover */\n",
       "#sk-container-id-2 div.sk-estimator:hover {\n",
       "  /* unfitted */\n",
       "  background-color: var(--sklearn-color-unfitted-level-2);\n",
       "}\n",
       "\n",
       "#sk-container-id-2 div.sk-estimator.fitted:hover {\n",
       "  /* fitted */\n",
       "  background-color: var(--sklearn-color-fitted-level-2);\n",
       "}\n",
       "\n",
       "/* Specification for estimator info (e.g. \"i\" and \"?\") */\n",
       "\n",
       "/* Common style for \"i\" and \"?\" */\n",
       "\n",
       ".sk-estimator-doc-link,\n",
       "a:link.sk-estimator-doc-link,\n",
       "a:visited.sk-estimator-doc-link {\n",
       "  float: right;\n",
       "  font-size: smaller;\n",
       "  line-height: 1em;\n",
       "  font-family: monospace;\n",
       "  background-color: var(--sklearn-color-background);\n",
       "  border-radius: 1em;\n",
       "  height: 1em;\n",
       "  width: 1em;\n",
       "  text-decoration: none !important;\n",
       "  margin-left: 0.5em;\n",
       "  text-align: center;\n",
       "  /* unfitted */\n",
       "  border: var(--sklearn-color-unfitted-level-1) 1pt solid;\n",
       "  color: var(--sklearn-color-unfitted-level-1);\n",
       "}\n",
       "\n",
       ".sk-estimator-doc-link.fitted,\n",
       "a:link.sk-estimator-doc-link.fitted,\n",
       "a:visited.sk-estimator-doc-link.fitted {\n",
       "  /* fitted */\n",
       "  border: var(--sklearn-color-fitted-level-1) 1pt solid;\n",
       "  color: var(--sklearn-color-fitted-level-1);\n",
       "}\n",
       "\n",
       "/* On hover */\n",
       "div.sk-estimator:hover .sk-estimator-doc-link:hover,\n",
       ".sk-estimator-doc-link:hover,\n",
       "div.sk-label-container:hover .sk-estimator-doc-link:hover,\n",
       ".sk-estimator-doc-link:hover {\n",
       "  /* unfitted */\n",
       "  background-color: var(--sklearn-color-unfitted-level-3);\n",
       "  color: var(--sklearn-color-background);\n",
       "  text-decoration: none;\n",
       "}\n",
       "\n",
       "div.sk-estimator.fitted:hover .sk-estimator-doc-link.fitted:hover,\n",
       ".sk-estimator-doc-link.fitted:hover,\n",
       "div.sk-label-container:hover .sk-estimator-doc-link.fitted:hover,\n",
       ".sk-estimator-doc-link.fitted:hover {\n",
       "  /* fitted */\n",
       "  background-color: var(--sklearn-color-fitted-level-3);\n",
       "  color: var(--sklearn-color-background);\n",
       "  text-decoration: none;\n",
       "}\n",
       "\n",
       "/* Span, style for the box shown on hovering the info icon */\n",
       ".sk-estimator-doc-link span {\n",
       "  display: none;\n",
       "  z-index: 9999;\n",
       "  position: relative;\n",
       "  font-weight: normal;\n",
       "  right: .2ex;\n",
       "  padding: .5ex;\n",
       "  margin: .5ex;\n",
       "  width: min-content;\n",
       "  min-width: 20ex;\n",
       "  max-width: 50ex;\n",
       "  color: var(--sklearn-color-text);\n",
       "  box-shadow: 2pt 2pt 4pt #999;\n",
       "  /* unfitted */\n",
       "  background: var(--sklearn-color-unfitted-level-0);\n",
       "  border: .5pt solid var(--sklearn-color-unfitted-level-3);\n",
       "}\n",
       "\n",
       ".sk-estimator-doc-link.fitted span {\n",
       "  /* fitted */\n",
       "  background: var(--sklearn-color-fitted-level-0);\n",
       "  border: var(--sklearn-color-fitted-level-3);\n",
       "}\n",
       "\n",
       ".sk-estimator-doc-link:hover span {\n",
       "  display: block;\n",
       "}\n",
       "\n",
       "/* \"?\"-specific style due to the `<a>` HTML tag */\n",
       "\n",
       "#sk-container-id-2 a.estimator_doc_link {\n",
       "  float: right;\n",
       "  font-size: 1rem;\n",
       "  line-height: 1em;\n",
       "  font-family: monospace;\n",
       "  background-color: var(--sklearn-color-background);\n",
       "  border-radius: 1rem;\n",
       "  height: 1rem;\n",
       "  width: 1rem;\n",
       "  text-decoration: none;\n",
       "  /* unfitted */\n",
       "  color: var(--sklearn-color-unfitted-level-1);\n",
       "  border: var(--sklearn-color-unfitted-level-1) 1pt solid;\n",
       "}\n",
       "\n",
       "#sk-container-id-2 a.estimator_doc_link.fitted {\n",
       "  /* fitted */\n",
       "  border: var(--sklearn-color-fitted-level-1) 1pt solid;\n",
       "  color: var(--sklearn-color-fitted-level-1);\n",
       "}\n",
       "\n",
       "/* On hover */\n",
       "#sk-container-id-2 a.estimator_doc_link:hover {\n",
       "  /* unfitted */\n",
       "  background-color: var(--sklearn-color-unfitted-level-3);\n",
       "  color: var(--sklearn-color-background);\n",
       "  text-decoration: none;\n",
       "}\n",
       "\n",
       "#sk-container-id-2 a.estimator_doc_link.fitted:hover {\n",
       "  /* fitted */\n",
       "  background-color: var(--sklearn-color-fitted-level-3);\n",
       "}\n",
       "</style><div id=\"sk-container-id-2\" class=\"sk-top-container\"><div class=\"sk-text-repr-fallback\"><pre>DecisionTreeClassifier(max_depth=8)</pre><b>In a Jupyter environment, please rerun this cell to show the HTML representation or trust the notebook. <br />On GitHub, the HTML representation is unable to render, please try loading this page with nbviewer.org.</b></div><div class=\"sk-container\" hidden><div class=\"sk-item\"><div class=\"sk-estimator fitted sk-toggleable\"><input class=\"sk-toggleable__control sk-hidden--visually\" id=\"sk-estimator-id-2\" type=\"checkbox\" checked><label for=\"sk-estimator-id-2\" class=\"sk-toggleable__label fitted sk-toggleable__label-arrow\"><div><div>DecisionTreeClassifier</div></div><div><a class=\"sk-estimator-doc-link fitted\" rel=\"noreferrer\" target=\"_blank\" href=\"https://scikit-learn.org/1.6/modules/generated/sklearn.tree.DecisionTreeClassifier.html\">?<span>Documentation for DecisionTreeClassifier</span></a><span class=\"sk-estimator-doc-link fitted\">i<span>Fitted</span></span></div></label><div class=\"sk-toggleable__content fitted\"><pre>DecisionTreeClassifier(max_depth=8)</pre></div> </div></div></div></div>"
      ],
      "text/plain": [
       "DecisionTreeClassifier(max_depth=8)"
      ]
     },
     "execution_count": 46,
     "metadata": {},
     "output_type": "execute_result"
    }
   ],
   "source": [
    "import joblib as cloudEmail_phishLib\n",
    "cloudEmail_phishLib.dump(cloud_EmailMod, \"Email_DTModel1.h5\")\n",
    "cloud_EmailMod"
   ]
  }
 ],
 "metadata": {
  "colab": {
   "authorship_tag": "ABX9TyOohv7LAz+dzBECtcz/gG90",
   "provenance": []
  },
  "kernelspec": {
   "display_name": "Python 3",
   "name": "python3"
  },
  "language_info": {
   "codemirror_mode": {
    "name": "ipython",
    "version": 3
   },
   "file_extension": ".py",
   "mimetype": "text/x-python",
   "name": "python",
   "nbconvert_exporter": "python",
   "pygments_lexer": "ipython3",
   "version": "3.9.0"
  }
 },
 "nbformat": 4,
 "nbformat_minor": 0
}

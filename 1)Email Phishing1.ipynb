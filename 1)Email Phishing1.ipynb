{
 "cells": [
  {
   "cell_type": "markdown",
   "metadata": {
    "id": "DnxbGF9kxBh-"
   },
   "source": [
    "### Data 1 - Email Phishing"
   ]
  },
  {
   "cell_type": "code",
   "execution_count": null,
   "metadata": {
    "colab": {
     "base_uri": "https://localhost:8080/"
    },
    "executionInfo": {
     "elapsed": 5600,
     "status": "ok",
     "timestamp": 1733308548706,
     "user": {
      "displayName": "jadaprojects14",
      "userId": "14814344427468355287"
     },
     "user_tz": -330
    },
    "id": "koptl0vpD1ID",
    "outputId": "6b6fc2e8-b671-486c-ac1f-62215b9cbe9c"
   },
   "outputs": [],
   "source": [
    "import pandas as cloudEmail_pns\n",
    "import warnings as cloudEmail_wns\n",
    "cloudEmail_wns.filterwarnings('ignore')\n",
    "import matplotlib.pyplot as cloudEmail_mpt\n",
    "from wordcloud import WordCloud as cloudEmail_wrdcld\n",
    "import regex as cloudEmail_rex\n",
    "import nltk as cloudEmail_ntk\n",
    "cloudEmail_ntk.download('stopwords')\n",
    "from nltk.corpus import stopwords as cloudEmail_swrd\n",
    "phishWord = cloudEmail_swrd.words('english')"
   ]
  },
  {
   "cell_type": "code",
   "execution_count": null,
   "metadata": {
    "colab": {
     "base_uri": "https://localhost:8080/",
     "height": 423
    },
    "executionInfo": {
     "elapsed": 4280,
     "status": "ok",
     "timestamp": 1733308552982,
     "user": {
      "displayName": "jadaprojects14",
      "userId": "14814344427468355287"
     },
     "user_tz": -330
    },
    "id": "0iP7F1G6DnN9",
    "outputId": "578bf842-c96a-4564-a470-09777a5c6a40"
   },
   "outputs": [],
   "source": [
    "cloudEmail1 = cloudEmail_pns.read_csv('Phishing_Email.csv')\n",
    "cloudEmail1"
   ]
  },
  {
   "cell_type": "code",
   "execution_count": null,
   "metadata": {
    "colab": {
     "base_uri": "https://localhost:8080/",
     "height": 241
    },
    "executionInfo": {
     "elapsed": 98,
     "status": "ok",
     "timestamp": 1733308552982,
     "user": {
      "displayName": "jadaprojects14",
      "userId": "14814344427468355287"
     },
     "user_tz": -330
    },
    "id": "LAH6Y4rtDnQy",
    "outputId": "1d4f8669-089e-4f69-b3eb-f83173fc6d2a"
   },
   "outputs": [],
   "source": [
    "cloudEmail1['Email Text'][:5]"
   ]
  },
  {
   "cell_type": "code",
   "execution_count": null,
   "metadata": {
    "colab": {
     "base_uri": "https://localhost:8080/",
     "height": 178
    },
    "executionInfo": {
     "elapsed": 96,
     "status": "ok",
     "timestamp": 1733308552982,
     "user": {
      "displayName": "jadaprojects14",
      "userId": "14814344427468355287"
     },
     "user_tz": -330
    },
    "id": "YBG4BgXnDnTr",
    "outputId": "93b70d85-9a53-40aa-ad61-1137b36cc4a2"
   },
   "outputs": [],
   "source": [
    "cloudEmail1['Email Type'].value_counts()"
   ]
  },
  {
   "cell_type": "code",
   "execution_count": null,
   "metadata": {
    "colab": {
     "base_uri": "https://localhost:8080/"
    },
    "executionInfo": {
     "elapsed": 95,
     "status": "ok",
     "timestamp": 1733308552984,
     "user": {
      "displayName": "jadaprojects14",
      "userId": "14814344427468355287"
     },
     "user_tz": -330
    },
    "id": "DVrRVOkPDnWv",
    "outputId": "9607ecb6-676a-4006-fbf6-06d60fb3adf7"
   },
   "outputs": [],
   "source": [
    "cloudEmail1.info()  ##---- Information"
   ]
  },
  {
   "cell_type": "code",
   "execution_count": 7,
   "metadata": {
    "executionInfo": {
     "elapsed": 92,
     "status": "ok",
     "timestamp": 1733308552984,
     "user": {
      "displayName": "jadaprojects14",
      "userId": "14814344427468355287"
     },
     "user_tz": -330
    },
    "id": "Ub2tzf8SXVym"
   },
   "outputs": [],
   "source": [
    "del cloudEmail1['Unnamed: 0']"
   ]
  },
  {
   "cell_type": "code",
   "execution_count": null,
   "metadata": {
    "colab": {
     "base_uri": "https://localhost:8080/",
     "height": 146
    },
    "executionInfo": {
     "elapsed": 92,
     "status": "ok",
     "timestamp": 1733308552985,
     "user": {
      "displayName": "jadaprojects14",
      "userId": "14814344427468355287"
     },
     "user_tz": -330
    },
    "id": "2g7TIFflDnZo",
    "outputId": "dbb166a9-31bf-493b-f0a5-41cdd8a3f1b3"
   },
   "outputs": [],
   "source": [
    "cloudEmail1.isnull().sum()  ##---- Missing Values for each column"
   ]
  },
  {
   "cell_type": "code",
   "execution_count": null,
   "metadata": {
    "colab": {
     "base_uri": "https://localhost:8080/",
     "height": 146
    },
    "executionInfo": {
     "elapsed": 91,
     "status": "ok",
     "timestamp": 1733308552986,
     "user": {
      "displayName": "jadaprojects14",
      "userId": "14814344427468355287"
     },
     "user_tz": -330
    },
    "id": "D3oQeqTVIOod",
    "outputId": "36d9b6cd-8c00-4d55-ce49-f2e023e53c1e"
   },
   "outputs": [],
   "source": [
    "cloudEmail1 = cloudEmail1.dropna()  ##---- Drop missing values\n",
    "cloudEmail1.isnull().sum()"
   ]
  },
  {
   "cell_type": "code",
   "execution_count": null,
   "metadata": {
    "colab": {
     "base_uri": "https://localhost:8080/"
    },
    "executionInfo": {
     "elapsed": 87,
     "status": "ok",
     "timestamp": 1733308552986,
     "user": {
      "displayName": "jadaprojects14",
      "userId": "14814344427468355287"
     },
     "user_tz": -330
    },
    "id": "GAzV26s-Dncg",
    "outputId": "fba78f46-3fb8-4925-a811-fc4b26df31da"
   },
   "outputs": [],
   "source": [
    "cloudEmail1.duplicated().sum()  ##---- Duplicate values"
   ]
  },
  {
   "cell_type": "code",
   "execution_count": null,
   "metadata": {
    "colab": {
     "base_uri": "https://localhost:8080/"
    },
    "executionInfo": {
     "elapsed": 85,
     "status": "ok",
     "timestamp": 1733308552987,
     "user": {
      "displayName": "jadaprojects14",
      "userId": "14814344427468355287"
     },
     "user_tz": -330
    },
    "id": "YtDpgCZxfQIf",
    "outputId": "7d1be59d-d3b9-4ec0-de9a-ba131e5885e0"
   },
   "outputs": [],
   "source": [
    "cloudEmail1 = cloudEmail1.drop_duplicates()  ### Dropping Duplicates from Email Threat\n",
    "cloudEmail1.shape"
   ]
  },
  {
   "cell_type": "code",
   "execution_count": null,
   "metadata": {
    "colab": {
     "base_uri": "https://localhost:8080/",
     "height": 423
    },
    "executionInfo": {
     "elapsed": 512,
     "status": "ok",
     "timestamp": 1733308553417,
     "user": {
      "displayName": "jadaprojects14",
      "userId": "14814344427468355287"
     },
     "user_tz": -330
    },
    "id": "mdoQKIOHUzXv",
    "outputId": "439637be-f7ee-4057-b800-4d16a61d9c5e"
   },
   "outputs": [],
   "source": [
    "cloudEmail1"
   ]
  },
  {
   "cell_type": "code",
   "execution_count": null,
   "metadata": {
    "colab": {
     "base_uri": "https://localhost:8080/",
     "height": 423
    },
    "executionInfo": {
     "elapsed": 23164,
     "status": "ok",
     "timestamp": 1733308576573,
     "user": {
      "displayName": "jadaprojects14",
      "userId": "14814344427468355287"
     },
     "user_tz": -330
    },
    "id": "874tKhMWOqkU",
    "outputId": "498b0579-ab0d-4d34-d83f-16878dcd8d70"
   },
   "outputs": [],
   "source": [
    "def prep_email(clem):\n",
    "    cldPhish = clem.lower()\n",
    "    cldPhish = cloudEmail_rex.sub(r'http://www+', '', cldPhish)\n",
    "    cldPhish = cloudEmail_rex.sub(\"[^a-z]+\", \" \", cldPhish)\n",
    "    cldPhish = \" \".join([cldwrd for cldwrd in cldPhish.split() if cldwrd not in phishWord])\n",
    "    return cldPhish\n",
    "\n",
    "cldLst = []\n",
    "for cld in cloudEmail1['Email Text']:\n",
    "    cldLst.append(prep_email(cld))\n",
    "cloudEmail1['Email Text'] = cldLst\n",
    "cloudEmail1\n"
   ]
  },
  {
   "cell_type": "code",
   "execution_count": null,
   "metadata": {
    "colab": {
     "base_uri": "https://localhost:8080/",
     "height": 146
    },
    "executionInfo": {
     "elapsed": 30,
     "status": "ok",
     "timestamp": 1733308576575,
     "user": {
      "displayName": "jadaprojects14",
      "userId": "14814344427468355287"
     },
     "user_tz": -330
    },
    "id": "zuxrW9nikYM5",
    "outputId": "5ccf605a-07e3-43f4-b7a7-6f9a6624aebd"
   },
   "outputs": [],
   "source": [
    "cloudEmail1.isnull().sum()  ##---- Missing Values for each column"
   ]
  },
  {
   "cell_type": "code",
   "execution_count": null,
   "metadata": {
    "colab": {
     "base_uri": "https://localhost:8080/",
     "height": 178
    },
    "executionInfo": {
     "elapsed": 27,
     "status": "ok",
     "timestamp": 1733308576575,
     "user": {
      "displayName": "jadaprojects14",
      "userId": "14814344427468355287"
     },
     "user_tz": -330
    },
    "id": "KQ8siKt0Ux07",
    "outputId": "36abbcee-ab16-4e66-d182-2b913f47d8fb"
   },
   "outputs": [],
   "source": [
    "cloudEmail1['Email Type'].value_counts()"
   ]
  },
  {
   "cell_type": "code",
   "execution_count": null,
   "metadata": {
    "colab": {
     "base_uri": "https://localhost:8080/",
     "height": 472
    },
    "executionInfo": {
     "elapsed": 546,
     "status": "ok",
     "timestamp": 1733308577096,
     "user": {
      "displayName": "jadaprojects14",
      "userId": "14814344427468355287"
     },
     "user_tz": -330
    },
    "id": "b4gPz3FHDnfM",
    "outputId": "9cae7a69-6e09-4f33-e3c1-5185eb886909"
   },
   "outputs": [],
   "source": [
    "cloudEmail1['Email Type'].value_counts().plot(kind='barh', color='teal')\n",
    "cloudEmail_mpt.title('Phishing Email')\n",
    "cloudEmail_mpt.xlabel('Count')\n",
    "cloudEmail_mpt.ylabel('Safe or Phishing')\n",
    "cloudEmail_mpt.show()\n"
   ]
  },
  {
   "cell_type": "code",
   "execution_count": null,
   "metadata": {
    "colab": {
     "base_uri": "https://localhost:8080/",
     "height": 370
    },
    "executionInfo": {
     "elapsed": 32115,
     "status": "ok",
     "timestamp": 1733308609186,
     "user": {
      "displayName": "jadaprojects14",
      "userId": "14814344427468355287"
     },
     "user_tz": -330
    },
    "id": "qDCxAV9MPi-O",
    "outputId": "3c8c67f8-5772-4558-86f3-99fc10bd2567"
   },
   "outputs": [],
   "source": [
    "cld_wrdTxt = \" \".join(cloudEmail1[\"Email Text\"])\n",
    "\n",
    "##---- Generating word cloud for \"Email Text\"\n",
    "word_cloud = cloudEmail_wrdcld(width=650, height=350, background_color=\"white\").generate(cld_wrdTxt)\n",
    "\n",
    "cloudEmail_mpt.figure(figsize=(8, 5))\n",
    "cloudEmail_mpt.imshow(word_cloud, interpolation='bilinear')\n",
    "cloudEmail_mpt.axis(\"off\")\n",
    "cloudEmail_mpt.show()"
   ]
  },
  {
   "cell_type": "code",
   "execution_count": 18,
   "metadata": {
    "executionInfo": {
     "elapsed": 52,
     "status": "ok",
     "timestamp": 1733308609186,
     "user": {
      "displayName": "jadaprojects14",
      "userId": "14814344427468355287"
     },
     "user_tz": -330
    },
    "id": "6gaAJyhRYZUZ"
   },
   "outputs": [],
   "source": [
    "from sklearn.preprocessing import LabelEncoder as cloudEmail_lblenc\n",
    "cld_numEn = cloudEmail_lblenc()\n",
    "cloudEmail1[\"Email Type\"] = cld_numEn.fit_transform(cloudEmail1[\"Email Type\"])"
   ]
  },
  {
   "cell_type": "code",
   "execution_count": null,
   "metadata": {
    "colab": {
     "base_uri": "https://localhost:8080/",
     "height": 178
    },
    "executionInfo": {
     "elapsed": 47,
     "status": "ok",
     "timestamp": 1733308609186,
     "user": {
      "displayName": "jadaprojects14",
      "userId": "14814344427468355287"
     },
     "user_tz": -330
    },
    "id": "tSA87ibEZERQ",
    "outputId": "21c95399-6a78-4bec-fe2c-0986c91bab0a"
   },
   "outputs": [],
   "source": [
    "cloudEmail1['Email Type'].value_counts()  ###--- (1 = safe email, 0 = phishing email)"
   ]
  },
  {
   "cell_type": "code",
   "execution_count": null,
   "metadata": {
    "colab": {
     "base_uri": "https://localhost:8080/",
     "height": 423
    },
    "executionInfo": {
     "elapsed": 681,
     "status": "ok",
     "timestamp": 1733308609825,
     "user": {
      "displayName": "jadaprojects14",
      "userId": "14814344427468355287"
     },
     "user_tz": -330
    },
    "id": "Ludz01w-ekC3",
    "outputId": "ee7ef54a-4227-46dc-c149-82880da3af5c"
   },
   "outputs": [],
   "source": [
    "cloudEmail1.to_csv('Research_data1.csv', index=False)\n",
    "cloudEmail1"
   ]
  }
 ],
 "metadata": {
  "colab": {
   "authorship_tag": "ABX9TyMnjLzkapxRcWj4VPczcm83",
   "provenance": []
  },
  "kernelspec": {
   "display_name": "Python 3",
   "name": "python3"
  },
  "language_info": {
   "name": "python"
  }
 },
 "nbformat": 4,
 "nbformat_minor": 0
}

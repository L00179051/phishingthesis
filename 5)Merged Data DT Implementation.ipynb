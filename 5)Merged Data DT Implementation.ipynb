{
 "cells": [
  {
   "cell_type": "markdown",
   "metadata": {
    "id": "IAaAW77hxz5D"
   },
   "source": [
    "### Merged (Data1 & Data2) DT Implementation"
   ]
  },
  {
   "cell_type": "code",
   "execution_count": 1,
   "metadata": {
    "executionInfo": {
     "elapsed": 1621,
     "status": "ok",
     "timestamp": 1733317253333,
     "user": {
      "displayName": "jadaprojects14",
      "userId": "14814344427468355287"
     },
     "user_tz": -330
    },
    "id": "xMiW7Ch1QJpH"
   },
   "outputs": [],
   "source": [
    "import pandas as cloudEmail_pns\n",
    "import warnings as cloudEmail_wns\n",
    "cloudEmail_wns.filterwarnings('ignore')\n",
    "import matplotlib.pyplot as cloudEmail_mpt"
   ]
  },
  {
   "cell_type": "code",
   "execution_count": 2,
   "metadata": {
    "colab": {
     "base_uri": "https://localhost:8080/",
     "height": 423
    },
    "executionInfo": {
     "elapsed": 549,
     "status": "ok",
     "timestamp": 1733317253879,
     "user": {
      "displayName": "jadaprojects14",
      "userId": "14814344427468355287"
     },
     "user_tz": -330
    },
    "id": "GrQpm8vqQJsM",
    "outputId": "de4b48a9-6eb3-4b28-cc0a-758fcf75822a"
   },
   "outputs": [
    {
     "data": {
      "text/html": [
       "<div>\n",
       "<style scoped>\n",
       "    .dataframe tbody tr th:only-of-type {\n",
       "        vertical-align: middle;\n",
       "    }\n",
       "\n",
       "    .dataframe tbody tr th {\n",
       "        vertical-align: top;\n",
       "    }\n",
       "\n",
       "    .dataframe thead th {\n",
       "        text-align: right;\n",
       "    }\n",
       "</style>\n",
       "<table border=\"1\" class=\"dataframe\">\n",
       "  <thead>\n",
       "    <tr style=\"text-align: right;\">\n",
       "      <th></th>\n",
       "      <th>Email Text</th>\n",
       "      <th>Email Type</th>\n",
       "    </tr>\n",
       "  </thead>\n",
       "  <tbody>\n",
       "    <tr>\n",
       "      <th>0</th>\n",
       "      <td>disc uniformitarianism sex lang dick hudson ob...</td>\n",
       "      <td>1</td>\n",
       "    </tr>\n",
       "    <tr>\n",
       "      <th>1</th>\n",
       "      <td>side galicismos galicismo spanish term names i...</td>\n",
       "      <td>1</td>\n",
       "    </tr>\n",
       "    <tr>\n",
       "      <th>2</th>\n",
       "      <td>equistar deal tickets still available assist r...</td>\n",
       "      <td>1</td>\n",
       "    </tr>\n",
       "    <tr>\n",
       "      <th>3</th>\n",
       "      <td>hello hot lil horny toy one dream open minded ...</td>\n",
       "      <td>0</td>\n",
       "    </tr>\n",
       "    <tr>\n",
       "      <th>4</th>\n",
       "      <td>software incredibly low prices lower drapery s...</td>\n",
       "      <td>0</td>\n",
       "    </tr>\n",
       "    <tr>\n",
       "      <th>...</th>\n",
       "      <td>...</td>\n",
       "      <td>...</td>\n",
       "    </tr>\n",
       "    <tr>\n",
       "      <th>17533</th>\n",
       "      <td>rick moen crit confused thought gpl ed money p...</td>\n",
       "      <td>1</td>\n",
       "    </tr>\n",
       "    <tr>\n",
       "      <th>17534</th>\n",
       "      <td>date lonely housewife always wanted date lonel...</td>\n",
       "      <td>0</td>\n",
       "    </tr>\n",
       "    <tr>\n",
       "      <th>17535</th>\n",
       "      <td>request submitted access request anita dupont ...</td>\n",
       "      <td>1</td>\n",
       "    </tr>\n",
       "    <tr>\n",
       "      <th>17536</th>\n",
       "      <td>important prc mtg hi dorn john discovered rece...</td>\n",
       "      <td>1</td>\n",
       "    </tr>\n",
       "    <tr>\n",
       "      <th>17537</th>\n",
       "      <td>press clippings letter californian utilities p...</td>\n",
       "      <td>1</td>\n",
       "    </tr>\n",
       "  </tbody>\n",
       "</table>\n",
       "<p>17538 rows × 2 columns</p>\n",
       "</div>"
      ],
      "text/plain": [
       "                                              Email Text  Email Type\n",
       "0      disc uniformitarianism sex lang dick hudson ob...           1\n",
       "1      side galicismos galicismo spanish term names i...           1\n",
       "2      equistar deal tickets still available assist r...           1\n",
       "3      hello hot lil horny toy one dream open minded ...           0\n",
       "4      software incredibly low prices lower drapery s...           0\n",
       "...                                                  ...         ...\n",
       "17533  rick moen crit confused thought gpl ed money p...           1\n",
       "17534  date lonely housewife always wanted date lonel...           0\n",
       "17535  request submitted access request anita dupont ...           1\n",
       "17536  important prc mtg hi dorn john discovered rece...           1\n",
       "17537  press clippings letter californian utilities p...           1\n",
       "\n",
       "[17538 rows x 2 columns]"
      ]
     },
     "execution_count": 2,
     "metadata": {},
     "output_type": "execute_result"
    }
   ],
   "source": [
    "cloudEmail1 = cloudEmail_pns.read_csv('Research_data1.csv')\n",
    "cloudEmail1"
   ]
  },
  {
   "cell_type": "code",
   "execution_count": 3,
   "metadata": {
    "colab": {
     "base_uri": "https://localhost:8080/",
     "height": 423
    },
    "executionInfo": {
     "elapsed": 2158,
     "status": "ok",
     "timestamp": 1733317256031,
     "user": {
      "displayName": "jadaprojects14",
      "userId": "14814344427468355287"
     },
     "user_tz": -330
    },
    "id": "1G9IZKd0V_FG",
    "outputId": "3dbe78c6-49f1-4e1f-cd09-322847c7a53b"
   },
   "outputs": [
    {
     "data": {
      "text/html": [
       "<div>\n",
       "<style scoped>\n",
       "    .dataframe tbody tr th:only-of-type {\n",
       "        vertical-align: middle;\n",
       "    }\n",
       "\n",
       "    .dataframe tbody tr th {\n",
       "        vertical-align: top;\n",
       "    }\n",
       "\n",
       "    .dataframe thead th {\n",
       "        text-align: right;\n",
       "    }\n",
       "</style>\n",
       "<table border=\"1\" class=\"dataframe\">\n",
       "  <thead>\n",
       "    <tr style=\"text-align: right;\">\n",
       "      <th></th>\n",
       "      <th>body</th>\n",
       "      <th>label</th>\n",
       "    </tr>\n",
       "  </thead>\n",
       "  <tbody>\n",
       "    <tr>\n",
       "      <th>0</th>\n",
       "      <td>buck troubles caused small dimension soon beco...</td>\n",
       "      <td>1</td>\n",
       "    </tr>\n",
       "    <tr>\n",
       "      <th>1</th>\n",
       "      <td>upgrade sex pleasures techniques brightmade com</td>\n",
       "      <td>1</td>\n",
       "    </tr>\n",
       "    <tr>\n",
       "      <th>2</th>\n",
       "      <td>daily top cnn com top videos stories aug pm ed...</td>\n",
       "      <td>1</td>\n",
       "    </tr>\n",
       "    <tr>\n",
       "      <th>3</th>\n",
       "      <td>would anyone object removing list tld basicall...</td>\n",
       "      <td>0</td>\n",
       "    </tr>\n",
       "    <tr>\n",
       "      <th>4</th>\n",
       "      <td>welcomefastshippingcustomersupport http iwfna ...</td>\n",
       "      <td>1</td>\n",
       "    </tr>\n",
       "    <tr>\n",
       "      <th>...</th>\n",
       "      <td>...</td>\n",
       "      <td>...</td>\n",
       "    </tr>\n",
       "    <tr>\n",
       "      <th>39149</th>\n",
       "      <td>cnn alerts custom alert alert name custom aler...</td>\n",
       "      <td>1</td>\n",
       "    </tr>\n",
       "    <tr>\n",
       "      <th>39150</th>\n",
       "      <td>cnn alerts custom alert alert name custom aler...</td>\n",
       "      <td>1</td>\n",
       "    </tr>\n",
       "    <tr>\n",
       "      <th>39151</th>\n",
       "      <td>hello great work slide show viewer application...</td>\n",
       "      <td>0</td>\n",
       "    </tr>\n",
       "    <tr>\n",
       "      <th>39152</th>\n",
       "      <td>mail sender coming intuit com servers subject ...</td>\n",
       "      <td>0</td>\n",
       "    </tr>\n",
       "    <tr>\n",
       "      <th>39153</th>\n",
       "      <td>dear fellow pythonistas guido accepted user si...</td>\n",
       "      <td>0</td>\n",
       "    </tr>\n",
       "  </tbody>\n",
       "</table>\n",
       "<p>39154 rows × 2 columns</p>\n",
       "</div>"
      ],
      "text/plain": [
       "                                                    body  label\n",
       "0      buck troubles caused small dimension soon beco...      1\n",
       "1        upgrade sex pleasures techniques brightmade com      1\n",
       "2      daily top cnn com top videos stories aug pm ed...      1\n",
       "3      would anyone object removing list tld basicall...      0\n",
       "4      welcomefastshippingcustomersupport http iwfna ...      1\n",
       "...                                                  ...    ...\n",
       "39149  cnn alerts custom alert alert name custom aler...      1\n",
       "39150  cnn alerts custom alert alert name custom aler...      1\n",
       "39151  hello great work slide show viewer application...      0\n",
       "39152  mail sender coming intuit com servers subject ...      0\n",
       "39153  dear fellow pythonistas guido accepted user si...      0\n",
       "\n",
       "[39154 rows x 2 columns]"
      ]
     },
     "execution_count": 3,
     "metadata": {},
     "output_type": "execute_result"
    }
   ],
   "source": [
    "cloudEmail2 = cloudEmail_pns.read_csv('Research_data2.csv')\n",
    "cloudEmail2"
   ]
  },
  {
   "cell_type": "code",
   "execution_count": 4,
   "metadata": {
    "colab": {
     "base_uri": "https://localhost:8080/"
    },
    "executionInfo": {
     "elapsed": 19,
     "status": "ok",
     "timestamp": 1733317256032,
     "user": {
      "displayName": "jadaprojects14",
      "userId": "14814344427468355287"
     },
     "user_tz": -330
    },
    "id": "3efdqpasXrCn",
    "outputId": "85dc52eb-2ff0-4043-96b0-ce57b7a2951b"
   },
   "outputs": [
    {
     "name": "stdout",
     "output_type": "stream",
     "text": [
      "\n",
      "DataFrame after renaming columns:\n",
      "                                              Email Text  Email Type\n",
      "0      buck troubles caused small dimension soon beco...           1\n",
      "1        upgrade sex pleasures techniques brightmade com           1\n",
      "2      daily top cnn com top videos stories aug pm ed...           1\n",
      "3      would anyone object removing list tld basicall...           0\n",
      "4      welcomefastshippingcustomersupport http iwfna ...           1\n",
      "...                                                  ...         ...\n",
      "39149  cnn alerts custom alert alert name custom aler...           1\n",
      "39150  cnn alerts custom alert alert name custom aler...           1\n",
      "39151  hello great work slide show viewer application...           0\n",
      "39152  mail sender coming intuit com servers subject ...           0\n",
      "39153  dear fellow pythonistas guido accepted user si...           0\n",
      "\n",
      "[39154 rows x 2 columns]\n"
     ]
    }
   ],
   "source": [
    "cloudEmail2.rename(columns={\n",
    "    'body': 'Email Text',\n",
    "    'label': 'Email Type',\n",
    "}, inplace=True)\n",
    "\n",
    "print(\"\\nDataFrame after renaming columns:\")\n",
    "print(cloudEmail2)"
   ]
  },
  {
   "cell_type": "code",
   "execution_count": 5,
   "metadata": {
    "colab": {
     "base_uri": "https://localhost:8080/",
     "height": 423
    },
    "executionInfo": {
     "elapsed": 761,
     "status": "ok",
     "timestamp": 1733317256778,
     "user": {
      "displayName": "jadaprojects14",
      "userId": "14814344427468355287"
     },
     "user_tz": -330
    },
    "id": "aQGb43zzYQE5",
    "outputId": "fa1a2f8e-d8a3-4033-ede8-12be03dcf7f8"
   },
   "outputs": [
    {
     "data": {
      "text/html": [
       "<div>\n",
       "<style scoped>\n",
       "    .dataframe tbody tr th:only-of-type {\n",
       "        vertical-align: middle;\n",
       "    }\n",
       "\n",
       "    .dataframe tbody tr th {\n",
       "        vertical-align: top;\n",
       "    }\n",
       "\n",
       "    .dataframe thead th {\n",
       "        text-align: right;\n",
       "    }\n",
       "</style>\n",
       "<table border=\"1\" class=\"dataframe\">\n",
       "  <thead>\n",
       "    <tr style=\"text-align: right;\">\n",
       "      <th></th>\n",
       "      <th>Email Text</th>\n",
       "      <th>Email Type</th>\n",
       "    </tr>\n",
       "  </thead>\n",
       "  <tbody>\n",
       "    <tr>\n",
       "      <th>0</th>\n",
       "      <td>disc uniformitarianism sex lang dick hudson ob...</td>\n",
       "      <td>1</td>\n",
       "    </tr>\n",
       "    <tr>\n",
       "      <th>1</th>\n",
       "      <td>side galicismos galicismo spanish term names i...</td>\n",
       "      <td>1</td>\n",
       "    </tr>\n",
       "    <tr>\n",
       "      <th>2</th>\n",
       "      <td>equistar deal tickets still available assist r...</td>\n",
       "      <td>1</td>\n",
       "    </tr>\n",
       "    <tr>\n",
       "      <th>3</th>\n",
       "      <td>hello hot lil horny toy one dream open minded ...</td>\n",
       "      <td>0</td>\n",
       "    </tr>\n",
       "    <tr>\n",
       "      <th>4</th>\n",
       "      <td>software incredibly low prices lower drapery s...</td>\n",
       "      <td>0</td>\n",
       "    </tr>\n",
       "    <tr>\n",
       "      <th>...</th>\n",
       "      <td>...</td>\n",
       "      <td>...</td>\n",
       "    </tr>\n",
       "    <tr>\n",
       "      <th>39149</th>\n",
       "      <td>cnn alerts custom alert alert name custom aler...</td>\n",
       "      <td>1</td>\n",
       "    </tr>\n",
       "    <tr>\n",
       "      <th>39150</th>\n",
       "      <td>cnn alerts custom alert alert name custom aler...</td>\n",
       "      <td>1</td>\n",
       "    </tr>\n",
       "    <tr>\n",
       "      <th>39151</th>\n",
       "      <td>hello great work slide show viewer application...</td>\n",
       "      <td>0</td>\n",
       "    </tr>\n",
       "    <tr>\n",
       "      <th>39152</th>\n",
       "      <td>mail sender coming intuit com servers subject ...</td>\n",
       "      <td>0</td>\n",
       "    </tr>\n",
       "    <tr>\n",
       "      <th>39153</th>\n",
       "      <td>dear fellow pythonistas guido accepted user si...</td>\n",
       "      <td>0</td>\n",
       "    </tr>\n",
       "  </tbody>\n",
       "</table>\n",
       "<p>56692 rows × 2 columns</p>\n",
       "</div>"
      ],
      "text/plain": [
       "                                              Email Text  Email Type\n",
       "0      disc uniformitarianism sex lang dick hudson ob...           1\n",
       "1      side galicismos galicismo spanish term names i...           1\n",
       "2      equistar deal tickets still available assist r...           1\n",
       "3      hello hot lil horny toy one dream open minded ...           0\n",
       "4      software incredibly low prices lower drapery s...           0\n",
       "...                                                  ...         ...\n",
       "39149  cnn alerts custom alert alert name custom aler...           1\n",
       "39150  cnn alerts custom alert alert name custom aler...           1\n",
       "39151  hello great work slide show viewer application...           0\n",
       "39152  mail sender coming intuit com servers subject ...           0\n",
       "39153  dear fellow pythonistas guido accepted user si...           0\n",
       "\n",
       "[56692 rows x 2 columns]"
      ]
     },
     "execution_count": 5,
     "metadata": {},
     "output_type": "execute_result"
    }
   ],
   "source": [
    "cloudEmail = cloudEmail_pns.concat([cloudEmail1, cloudEmail2], axis=0) ###---- merging two datasets\n",
    "cloudEmail"
   ]
  },
  {
   "cell_type": "code",
   "execution_count": 6,
   "metadata": {
    "colab": {
     "base_uri": "https://localhost:8080/",
     "height": 178
    },
    "executionInfo": {
     "elapsed": 21,
     "status": "ok",
     "timestamp": 1733317256778,
     "user": {
      "displayName": "jadaprojects14",
      "userId": "14814344427468355287"
     },
     "user_tz": -330
    },
    "id": "udQ25Lk0qmCR",
    "outputId": "314b8137-8c8e-4da6-bc8f-11e831b49c34"
   },
   "outputs": [
    {
     "data": {
      "text/plain": [
       "Email Type\n",
       "1    32822\n",
       "0    23870\n",
       "Name: count, dtype: int64"
      ]
     },
     "execution_count": 6,
     "metadata": {},
     "output_type": "execute_result"
    }
   ],
   "source": [
    "cloudEmail['Email Type'].value_counts()"
   ]
  },
  {
   "cell_type": "code",
   "execution_count": 7,
   "metadata": {
    "colab": {
     "base_uri": "https://localhost:8080/"
    },
    "executionInfo": {
     "elapsed": 95569,
     "status": "ok",
     "timestamp": 1733317352331,
     "user": {
      "displayName": "jadaprojects14",
      "userId": "14814344427468355287"
     },
     "user_tz": -330
    },
    "id": "UYSEIZm8QJvM",
    "outputId": "367ce96f-d08e-4a1a-8c79-e33eb45308b6"
   },
   "outputs": [
    {
     "name": "stdout",
     "output_type": "stream",
     "text": [
      "Merged Research Data Numerical Dimensions are :  (56690, 230565)\n",
      "\n",
      "Email Phishing Merged Data  Counter({1: 32822, 0: 23868})\n",
      "Balanced Email Phishing Merged Data Counter({1: 32822, 0: 32822})\n"
     ]
    }
   ],
   "source": [
    "from collections import Counter as cloudEmail_balanceCount\n",
    "from imblearn.over_sampling import SMOTE as cloudEmail_balanceSmote\n",
    "from sklearn.feature_extraction.text import TfidfVectorizer as cloudEmail_TFVNumerical\n",
    "\n",
    "cloudEmail.dropna(subset=['Email Text'], inplace=True)\n",
    "cloudEmail_X1 = cloudEmail['Email Text']\n",
    "cloudEmail_y1 = cloudEmail['Email Type']\n",
    "\n",
    "cloudTFMod = cloudEmail_TFVNumerical(analyzer='word', ngram_range=(1, 1))\n",
    "cloudEmail_X1 = cloudTFMod.fit_transform(cloudEmail_X1)\n",
    "print(\"Merged Research Data Numerical Dimensions are : \", cloudEmail_X1.shape)\n",
    "\n",
    "print('\\nEmail Phishing Merged Data  %s' % cloudEmail_balanceCount(cloudEmail_y1))\n",
    "cloudEmod = cloudEmail_balanceSmote()\n",
    "cloudEmail_X1, cloudEmail_y1 = cloudEmod.fit_resample(cloudEmail_X1, cloudEmail_y1)\n",
    "print('Balanced Email Phishing Merged Data %s' % cloudEmail_balanceCount(cloudEmail_y1))"
   ]
  },
  {
   "cell_type": "code",
   "execution_count": 8,
   "metadata": {},
   "outputs": [
    {
     "name": "stdout",
     "output_type": "stream",
     "text": [
      "TfidfVectorizer model saved as TfidfVectorizer_Model3.h5\n",
      "TfidfVectorizer model loaded successfully.\n"
     ]
    }
   ],
   "source": [
    "import joblib as cloudEmail_phishLib\n",
    "\n",
    "# Save the TfidfVectorizer model with \"3\" in the filename\n",
    "cloudEmail_phishLib.dump(cloudTFMod, \"TfidfVectorizer_Model3.h5\")\n",
    "print(\"TfidfVectorizer model saved as TfidfVectorizer_Model3.h5\")\n",
    "\n",
    "loaded_TFIDF = cloudEmail_phishLib.load(\"TfidfVectorizer_Model3.h5\")\n",
    "print(\"TfidfVectorizer model loaded successfully.\")\n"
   ]
  },
  {
   "cell_type": "code",
   "execution_count": 9,
   "metadata": {
    "colab": {
     "base_uri": "https://localhost:8080/"
    },
    "executionInfo": {
     "elapsed": 11,
     "status": "ok",
     "timestamp": 1733317352333,
     "user": {
      "displayName": "jadaprojects14",
      "userId": "14814344427468355287"
     },
     "user_tz": -330
    },
    "id": "UwGwz9Z_QJx8",
    "outputId": "dee09478-e0d2-495d-df4f-c535984ab122"
   },
   "outputs": [
    {
     "name": "stdout",
     "output_type": "stream",
     "text": [
      "Merged Research Data Dimension Shape:  (65644, 230565)\n"
     ]
    }
   ],
   "source": [
    "print(\"Merged Research Data Dimension Shape: \",cloudEmail_X1.shape)"
   ]
  },
  {
   "cell_type": "code",
   "execution_count": 10,
   "metadata": {
    "colab": {
     "base_uri": "https://localhost:8080/"
    },
    "executionInfo": {
     "elapsed": 17014,
     "status": "ok",
     "timestamp": 1733317369340,
     "user": {
      "displayName": "jadaprojects14",
      "userId": "14814344427468355287"
     },
     "user_tz": -330
    },
    "id": "l54UoJ7UQJ3p",
    "outputId": "098d096b-07bb-441e-9709-6b17bdefbf36"
   },
   "outputs": [
    {
     "name": "stdout",
     "output_type": "stream",
     "text": [
      "Merged Research Data Dimension Reduction Shape:  (65644, 30)\n",
      "PCA model saved as PCA_Model3.h5\n",
      "PCA model loaded successfully.\n"
     ]
    }
   ],
   "source": [
    "from sklearn.decomposition import PCA as cloudEmail_phishPCA\n",
    "\n",
    "cloudPCA1 = cloudEmail_phishPCA(n_components = 30)\n",
    "cloudEmail_X1 = cloudPCA1.fit_transform(cloudEmail_X1)\n",
    "print(\"Merged Research Data Dimension Reduction Shape: \", cloudEmail_X1.shape)\n",
    "\n",
    "cloudEmail_phishLib.dump(cloudPCA1, \"PCA_Model3.h5\")\n",
    "print(\"PCA model saved as PCA_Model3.h5\")\n",
    "loaded_PCA = cloudEmail_phishLib.load(\"PCA_Model3.h5\")\n",
    "print(\"PCA model loaded successfully.\")"
   ]
  },
  {
   "cell_type": "code",
   "execution_count": 11,
   "metadata": {
    "executionInfo": {
     "elapsed": 52,
     "status": "ok",
     "timestamp": 1733317369341,
     "user": {
      "displayName": "jadaprojects14",
      "userId": "14814344427468355287"
     },
     "user_tz": -330
    },
    "id": "b1CuphuRRhCi"
   },
   "outputs": [],
   "source": [
    "from sklearn.model_selection import train_test_split as cloudEmail_phishSp\n",
    "cloudEmail_X1tr, cloudEmail_X1ts, cloudEmail_y1tr, cloudEmail_y1ts = cloudEmail_phishSp(cloudEmail_X1, cloudEmail_y1, test_size=0.4, random_state=32)"
   ]
  },
  {
   "cell_type": "code",
   "execution_count": 12,
   "metadata": {
    "colab": {
     "base_uri": "https://localhost:8080/"
    },
    "executionInfo": {
     "elapsed": 50,
     "status": "ok",
     "timestamp": 1733317369341,
     "user": {
      "displayName": "jadaprojects14",
      "userId": "14814344427468355287"
     },
     "user_tz": -330
    },
    "id": "RYYm-YTwRhFp",
    "outputId": "9e60ef74-c7c7-4eab-af2f-8101d5b523cf"
   },
   "outputs": [
    {
     "name": "stdout",
     "output_type": "stream",
     "text": [
      "60% Train Merged Data (39386, 30)\n",
      "40% Test Merged Data (26258, 30)\n"
     ]
    }
   ],
   "source": [
    "print(\"60% Train Merged Data\",cloudEmail_X1tr.shape)\n",
    "print(\"40% Test Merged Data\",cloudEmail_X1ts.shape)"
   ]
  },
  {
   "cell_type": "code",
   "execution_count": 13,
   "metadata": {
    "executionInfo": {
     "elapsed": 43,
     "status": "ok",
     "timestamp": 1733317369342,
     "user": {
      "displayName": "jadaprojects14",
      "userId": "14814344427468355287"
     },
     "user_tz": -330
    },
    "id": "oI13s0Xetntk"
   },
   "outputs": [],
   "source": [
    "from sklearn.model_selection import RandomizedSearchCV as cloudEmail_RDSCV\n",
    "from sklearn.metrics import ConfusionMatrixDisplay as cloudEmail_phishDisp\n",
    "from sklearn.metrics import confusion_matrix as cloudEmail_phishMatx\n",
    "from sklearn.metrics import classification_report as cloudEmail_phishReport\n",
    "from sklearn import metrics as cloudEmail_phishMetr\n",
    "import time as cloudEmail_phishTime"
   ]
  },
  {
   "cell_type": "code",
   "execution_count": 14,
   "metadata": {
    "colab": {
     "base_uri": "https://localhost:8080/"
    },
    "executionInfo": {
     "elapsed": 41,
     "status": "ok",
     "timestamp": 1733317369342,
     "user": {
      "displayName": "jadaprojects14",
      "userId": "14814344427468355287"
     },
     "user_tz": -330
    },
    "id": "q28ETWjdtnw9",
    "outputId": "ceccb919-e362-4c37-ab5b-dac98435978d"
   },
   "outputs": [
    {
     "name": "stdout",
     "output_type": "stream",
     "text": [
      "\n",
      "Randomized Search Parameters for Decision Tree:\n",
      " {'splitter': 'random', 'max_depth': 8, 'criterion': 'log_loss'}\n"
     ]
    }
   ],
   "source": [
    "from sklearn.tree import DecisionTreeClassifier as cloudEmail_phishDecisionTr\n",
    "cloudParameters = {'criterion':['gini','entropy','log_loss'],'splitter': ['best','random'],'max_depth': [3,4,7,8]\n",
    "                }\n",
    "cloud_EmailMod = cloudEmail_phishDecisionTr(random_state=32)\n",
    "cloud_EmailMod = cloudEmail_RDSCV(cloud_EmailMod, cloudParameters, cv=2)\n",
    "cloud_EmailMod.fit(cloudEmail_X1tr[:800], cloudEmail_y1tr[:800])\n",
    "print(\"\\nRandomized Search Parameters for Decision Tree:\\n\",cloud_EmailMod.best_params_)"
   ]
  },
  {
   "cell_type": "code",
   "execution_count": 15,
   "metadata": {
    "colab": {
     "base_uri": "https://localhost:8080/"
    },
    "executionInfo": {
     "elapsed": 2107,
     "status": "ok",
     "timestamp": 1733317371441,
     "user": {
      "displayName": "jadaprojects14",
      "userId": "14814344427468355287"
     },
     "user_tz": -330
    },
    "id": "tMUTEjkutnzw",
    "outputId": "b121ac85-eef4-4d96-e7ba-23b6f14f1d15"
   },
   "outputs": [
    {
     "name": "stdout",
     "output_type": "stream",
     "text": [
      "Time to Train Merged Data :  0.09855890274047852\n"
     ]
    }
   ],
   "source": [
    "##------ Training\n",
    "Email_STime = cloudEmail_phishTime.time()\n",
    "cloud_EmailMod = cloudEmail_phishDecisionTr(**cloud_EmailMod.best_params_)\n",
    "cloud_EmailMod.fit(cloudEmail_X1tr, cloudEmail_y1tr)\n",
    "Email_ENTime = cloudEmail_phishTime.time()\n",
    "print(\"Time to Train Merged Data : \", Email_ENTime - Email_STime)"
   ]
  },
  {
   "cell_type": "code",
   "execution_count": 16,
   "metadata": {
    "colab": {
     "base_uri": "https://localhost:8080/",
     "height": 627
    },
    "executionInfo": {
     "elapsed": 20,
     "status": "ok",
     "timestamp": 1733317371441,
     "user": {
      "displayName": "jadaprojects14",
      "userId": "14814344427468355287"
     },
     "user_tz": -330
    },
    "id": "0uTUTYuxtn2n",
    "outputId": "aeb98549-c491-4a7f-d932-3e51cbf68c5f"
   },
   "outputs": [
    {
     "name": "stdout",
     "output_type": "stream",
     "text": [
      "Time to Test Merged Data :  0.007635354995727539\n",
      "              precision    recall  f1-score   support\n",
      "\n",
      "           0       0.65      0.97      0.78     13123\n",
      "           1       0.93      0.49      0.64     13135\n",
      "\n",
      "    accuracy                           0.73     26258\n",
      "   macro avg       0.79      0.73      0.71     26258\n",
      "weighted avg       0.79      0.73      0.71     26258\n",
      "\n"
     ]
    },
    {
     "data": {
      "image/png": "[encoded data removed]",
      "text/plain": [
       "<Figure size 640x480 with 2 Axes>"
      ]
     },
     "metadata": {},
     "output_type": "display_data"
    }
   ],
   "source": [
    "##------ Testing\n",
    "Email_STime = cloudEmail_phishTime.time()\n",
    "cloudEmail_yp = cloud_EmailMod.predict(cloudEmail_X1ts)\n",
    "Email_ENTime = cloudEmail_phishTime.time()\n",
    "print(\"Time to Test Merged Data : \", Email_ENTime - Email_STime)\n",
    "\n",
    "print(cloudEmail_phishReport(cloudEmail_y1ts, cloudEmail_yp))\n",
    "cloudMx = cloudEmail_phishMatx(cloudEmail_y1ts, cloudEmail_yp)\n",
    "cloudEmail_phishDisp(confusion_matrix = cloudMx, display_labels = [0,1]).plot(cmap='PiYG')\n",
    "cloudEmail_mpt.show()"
   ]
  },
  {
   "cell_type": "code",
   "execution_count": 17,
   "metadata": {
    "colab": {
     "base_uri": "https://localhost:8080/",
     "height": 80
    },
    "executionInfo": {
     "elapsed": 15,
     "status": "ok",
     "timestamp": 1733317371441,
     "user": {
      "displayName": "jadaprojects14",
      "userId": "14814344427468355287"
     },
     "user_tz": -330
    },
    "id": "-0TWYvH3tn5s",
    "outputId": "59817868-1f25-4eae-9057-ca021a49cbc0"
   },
   "outputs": [
    {
     "data": {
      "text/html": [
       "<style>#sk-container-id-1 {\n",
       "  /* Definition of color scheme common for light and dark mode */\n",
       "  --sklearn-color-text: #000;\n",
       "  --sklearn-color-text-muted: #666;\n",
       "  --sklearn-color-line: gray;\n",
       "  /* Definition of color scheme for unfitted estimators */\n",
       "  --sklearn-color-unfitted-level-0: #fff5e6;\n",
       "  --sklearn-color-unfitted-level-1: #f6e4d2;\n",
       "  --sklearn-color-unfitted-level-2: #ffe0b3;\n",
       "  --sklearn-color-unfitted-level-3: chocolate;\n",
       "  /* Definition of color scheme for fitted estimators */\n",
       "  --sklearn-color-fitted-level-0: #f0f8ff;\n",
       "  --sklearn-color-fitted-level-1: #d4ebff;\n",
       "  --sklearn-color-fitted-level-2: #b3dbfd;\n",
       "  --sklearn-color-fitted-level-3: cornflowerblue;\n",
       "\n",
       "  /* Specific color for light theme */\n",
       "  --sklearn-color-text-on-default-background: var(--sg-text-color, var(--theme-code-foreground, var(--jp-content-font-color1, black)));\n",
       "  --sklearn-color-background: var(--sg-background-color, var(--theme-background, var(--jp-layout-color0, white)));\n",
       "  --sklearn-color-border-box: var(--sg-text-color, var(--theme-code-foreground, var(--jp-content-font-color1, black)));\n",
       "  --sklearn-color-icon: #696969;\n",
       "\n",
       "  @media (prefers-color-scheme: dark) {\n",
       "    /* Redefinition of color scheme for dark theme */\n",
       "    --sklearn-color-text-on-default-background: var(--sg-text-color, var(--theme-code-foreground, var(--jp-content-font-color1, white)));\n",
       "    --sklearn-color-background: var(--sg-background-color, var(--theme-background, var(--jp-layout-color0, #111)));\n",
       "    --sklearn-color-border-box: var(--sg-text-color, var(--theme-code-foreground, var(--jp-content-font-color1, white)));\n",
       "    --sklearn-color-icon: #878787;\n",
       "  }\n",
       "}\n",
       "\n",
       "#sk-container-id-1 {\n",
       "  color: var(--sklearn-color-text);\n",
       "}\n",
       "\n",
       "#sk-container-id-1 pre {\n",
       "  padding: 0;\n",
       "}\n",
       "\n",
       "#sk-container-id-1 input.sk-hidden--visually {\n",
       "  border: 0;\n",
       "  clip: rect(1px 1px 1px 1px);\n",
       "  clip: rect(1px, 1px, 1px, 1px);\n",
       "  height: 1px;\n",
       "  margin: -1px;\n",
       "  overflow: hidden;\n",
       "  padding: 0;\n",
       "  position: absolute;\n",
       "  width: 1px;\n",
       "}\n",
       "\n",
       "#sk-container-id-1 div.sk-dashed-wrapped {\n",
       "  border: 1px dashed var(--sklearn-color-line);\n",
       "  margin: 0 0.4em 0.5em 0.4em;\n",
       "  box-sizing: border-box;\n",
       "  padding-bottom: 0.4em;\n",
       "  background-color: var(--sklearn-color-background);\n",
       "}\n",
       "\n",
       "#sk-container-id-1 div.sk-container {\n",
       "  /* jupyter's `normalize.less` sets `[hidden] { display: none; }`\n",
       "     but bootstrap.min.css set `[hidden] { display: none !important; }`\n",
       "     so we also need the `!important` here to be able to override the\n",
       "     default hidden behavior on the sphinx rendered scikit-learn.org.\n",
       "     See: https://github.com/scikit-learn/scikit-learn/issues/21755 */\n",
       "  display: inline-block !important;\n",
       "  position: relative;\n",
       "}\n",
       "\n",
       "#sk-container-id-1 div.sk-text-repr-fallback {\n",
       "  display: none;\n",
       "}\n",
       "\n",
       "div.sk-parallel-item,\n",
       "div.sk-serial,\n",
       "div.sk-item {\n",
       "  /* draw centered vertical line to link estimators */\n",
       "  background-image: linear-gradient(var(--sklearn-color-text-on-default-background), var(--sklearn-color-text-on-default-background));\n",
       "  background-size: 2px 100%;\n",
       "  background-repeat: no-repeat;\n",
       "  background-position: center center;\n",
       "}\n",
       "\n",
       "/* Parallel-specific style estimator block */\n",
       "\n",
       "#sk-container-id-1 div.sk-parallel-item::after {\n",
       "  content: \"\";\n",
       "  width: 100%;\n",
       "  border-bottom: 2px solid var(--sklearn-color-text-on-default-background);\n",
       "  flex-grow: 1;\n",
       "}\n",
       "\n",
       "#sk-container-id-1 div.sk-parallel {\n",
       "  display: flex;\n",
       "  align-items: stretch;\n",
       "  justify-content: center;\n",
       "  background-color: var(--sklearn-color-background);\n",
       "  position: relative;\n",
       "}\n",
       "\n",
       "#sk-container-id-1 div.sk-parallel-item {\n",
       "  display: flex;\n",
       "  flex-direction: column;\n",
       "}\n",
       "\n",
       "#sk-container-id-1 div.sk-parallel-item:first-child::after {\n",
       "  align-self: flex-end;\n",
       "  width: 50%;\n",
       "}\n",
       "\n",
       "#sk-container-id-1 div.sk-parallel-item:last-child::after {\n",
       "  align-self: flex-start;\n",
       "  width: 50%;\n",
       "}\n",
       "\n",
       "#sk-container-id-1 div.sk-parallel-item:only-child::after {\n",
       "  width: 0;\n",
       "}\n",
       "\n",
       "/* Serial-specific style estimator block */\n",
       "\n",
       "#sk-container-id-1 div.sk-serial {\n",
       "  display: flex;\n",
       "  flex-direction: column;\n",
       "  align-items: center;\n",
       "  background-color: var(--sklearn-color-background);\n",
       "  padding-right: 1em;\n",
       "  padding-left: 1em;\n",
       "}\n",
       "\n",
       "\n",
       "/* Toggleable style: style used for estimator/Pipeline/ColumnTransformer box that is\n",
       "clickable and can be expanded/collapsed.\n",
       "- Pipeline and ColumnTransformer use this feature and define the default style\n",
       "- Estimators will overwrite some part of the style using the `sk-estimator` class\n",
       "*/\n",
       "\n",
       "/* Pipeline and ColumnTransformer style (default) */\n",
       "\n",
       "#sk-container-id-1 div.sk-toggleable {\n",
       "  /* Default theme specific background. It is overwritten whether we have a\n",
       "  specific estimator or a Pipeline/ColumnTransformer */\n",
       "  background-color: var(--sklearn-color-background);\n",
       "}\n",
       "\n",
       "/* Toggleable label */\n",
       "#sk-container-id-1 label.sk-toggleable__label {\n",
       "  cursor: pointer;\n",
       "  display: flex;\n",
       "  width: 100%;\n",
       "  margin-bottom: 0;\n",
       "  padding: 0.5em;\n",
       "  box-sizing: border-box;\n",
       "  text-align: center;\n",
       "  align-items: start;\n",
       "  justify-content: space-between;\n",
       "  gap: 0.5em;\n",
       "}\n",
       "\n",
       "#sk-container-id-1 label.sk-toggleable__label .caption {\n",
       "  font-size: 0.6rem;\n",
       "  font-weight: lighter;\n",
       "  color: var(--sklearn-color-text-muted);\n",
       "}\n",
       "\n",
       "#sk-container-id-1 label.sk-toggleable__label-arrow:before {\n",
       "  /* Arrow on the left of the label */\n",
       "  content: \"▸\";\n",
       "  float: left;\n",
       "  margin-right: 0.25em;\n",
       "  color: var(--sklearn-color-icon);\n",
       "}\n",
       "\n",
       "#sk-container-id-1 label.sk-toggleable__label-arrow:hover:before {\n",
       "  color: var(--sklearn-color-text);\n",
       "}\n",
       "\n",
       "/* Toggleable content - dropdown */\n",
       "\n",
       "#sk-container-id-1 div.sk-toggleable__content {\n",
       "  max-height: 0;\n",
       "  max-width: 0;\n",
       "  overflow: hidden;\n",
       "  text-align: left;\n",
       "  /* unfitted */\n",
       "  background-color: var(--sklearn-color-unfitted-level-0);\n",
       "}\n",
       "\n",
       "#sk-container-id-1 div.sk-toggleable__content.fitted {\n",
       "  /* fitted */\n",
       "  background-color: var(--sklearn-color-fitted-level-0);\n",
       "}\n",
       "\n",
       "#sk-container-id-1 div.sk-toggleable__content pre {\n",
       "  margin: 0.2em;\n",
       "  border-radius: 0.25em;\n",
       "  color: var(--sklearn-color-text);\n",
       "  /* unfitted */\n",
       "  background-color: var(--sklearn-color-unfitted-level-0);\n",
       "}\n",
       "\n",
       "#sk-container-id-1 div.sk-toggleable__content.fitted pre {\n",
       "  /* unfitted */\n",
       "  background-color: var(--sklearn-color-fitted-level-0);\n",
       "}\n",
       "\n",
       "#sk-container-id-1 input.sk-toggleable__control:checked~div.sk-toggleable__content {\n",
       "  /* Expand drop-down */\n",
       "  max-height: 200px;\n",
       "  max-width: 100%;\n",
       "  overflow: auto;\n",
       "}\n",
       "\n",
       "#sk-container-id-1 input.sk-toggleable__control:checked~label.sk-toggleable__label-arrow:before {\n",
       "  content: \"▾\";\n",
       "}\n",
       "\n",
       "/* Pipeline/ColumnTransformer-specific style */\n",
       "\n",
       "#sk-container-id-1 div.sk-label input.sk-toggleable__control:checked~label.sk-toggleable__label {\n",
       "  color: var(--sklearn-color-text);\n",
       "  background-color: var(--sklearn-color-unfitted-level-2);\n",
       "}\n",
       "\n",
       "#sk-container-id-1 div.sk-label.fitted input.sk-toggleable__control:checked~label.sk-toggleable__label {\n",
       "  background-color: var(--sklearn-color-fitted-level-2);\n",
       "}\n",
       "\n",
       "/* Estimator-specific style */\n",
       "\n",
       "/* Colorize estimator box */\n",
       "#sk-container-id-1 div.sk-estimator input.sk-toggleable__control:checked~label.sk-toggleable__label {\n",
       "  /* unfitted */\n",
       "  background-color: var(--sklearn-color-unfitted-level-2);\n",
       "}\n",
       "\n",
       "#sk-container-id-1 div.sk-estimator.fitted input.sk-toggleable__control:checked~label.sk-toggleable__label {\n",
       "  /* fitted */\n",
       "  background-color: var(--sklearn-color-fitted-level-2);\n",
       "}\n",
       "\n",
       "#sk-container-id-1 div.sk-label label.sk-toggleable__label,\n",
       "#sk-container-id-1 div.sk-label label {\n",
       "  /* The background is the default theme color */\n",
       "  color: var(--sklearn-color-text-on-default-background);\n",
       "}\n",
       "\n",
       "/* On hover, darken the color of the background */\n",
       "#sk-container-id-1 div.sk-label:hover label.sk-toggleable__label {\n",
       "  color: var(--sklearn-color-text);\n",
       "  background-color: var(--sklearn-color-unfitted-level-2);\n",
       "}\n",
       "\n",
       "/* Label box, darken color on hover, fitted */\n",
       "#sk-container-id-1 div.sk-label.fitted:hover label.sk-toggleable__label.fitted {\n",
       "  color: var(--sklearn-color-text);\n",
       "  background-color: var(--sklearn-color-fitted-level-2);\n",
       "}\n",
       "\n",
       "/* Estimator label */\n",
       "\n",
       "#sk-container-id-1 div.sk-label label {\n",
       "  font-family: monospace;\n",
       "  font-weight: bold;\n",
       "  display: inline-block;\n",
       "  line-height: 1.2em;\n",
       "}\n",
       "\n",
       "#sk-container-id-1 div.sk-label-container {\n",
       "  text-align: center;\n",
       "}\n",
       "\n",
       "/* Estimator-specific */\n",
       "#sk-container-id-1 div.sk-estimator {\n",
       "  font-family: monospace;\n",
       "  border: 1px dotted var(--sklearn-color-border-box);\n",
       "  border-radius: 0.25em;\n",
       "  box-sizing: border-box;\n",
       "  margin-bottom: 0.5em;\n",
       "  /* unfitted */\n",
       "  background-color: var(--sklearn-color-unfitted-level-0);\n",
       "}\n",
       "\n",
       "#sk-container-id-1 div.sk-estimator.fitted {\n",
       "  /* fitted */\n",
       "  background-color: var(--sklearn-color-fitted-level-0);\n",
       "}\n",
       "\n",
       "/* on hover */\n",
       "#sk-container-id-1 div.sk-estimator:hover {\n",
       "  /* unfitted */\n",
       "  background-color: var(--sklearn-color-unfitted-level-2);\n",
       "}\n",
       "\n",
       "#sk-container-id-1 div.sk-estimator.fitted:hover {\n",
       "  /* fitted */\n",
       "  background-color: var(--sklearn-color-fitted-level-2);\n",
       "}\n",
       "\n",
       "/* Specification for estimator info (e.g. \"i\" and \"?\") */\n",
       "\n",
       "/* Common style for \"i\" and \"?\" */\n",
       "\n",
       ".sk-estimator-doc-link,\n",
       "a:link.sk-estimator-doc-link,\n",
       "a:visited.sk-estimator-doc-link {\n",
       "  float: right;\n",
       "  font-size: smaller;\n",
       "  line-height: 1em;\n",
       "  font-family: monospace;\n",
       "  background-color: var(--sklearn-color-background);\n",
       "  border-radius: 1em;\n",
       "  height: 1em;\n",
       "  width: 1em;\n",
       "  text-decoration: none !important;\n",
       "  margin-left: 0.5em;\n",
       "  text-align: center;\n",
       "  /* unfitted */\n",
       "  border: var(--sklearn-color-unfitted-level-1) 1pt solid;\n",
       "  color: var(--sklearn-color-unfitted-level-1);\n",
       "}\n",
       "\n",
       ".sk-estimator-doc-link.fitted,\n",
       "a:link.sk-estimator-doc-link.fitted,\n",
       "a:visited.sk-estimator-doc-link.fitted {\n",
       "  /* fitted */\n",
       "  border: var(--sklearn-color-fitted-level-1) 1pt solid;\n",
       "  color: var(--sklearn-color-fitted-level-1);\n",
       "}\n",
       "\n",
       "/* On hover */\n",
       "div.sk-estimator:hover .sk-estimator-doc-link:hover,\n",
       ".sk-estimator-doc-link:hover,\n",
       "div.sk-label-container:hover .sk-estimator-doc-link:hover,\n",
       ".sk-estimator-doc-link:hover {\n",
       "  /* unfitted */\n",
       "  background-color: var(--sklearn-color-unfitted-level-3);\n",
       "  color: var(--sklearn-color-background);\n",
       "  text-decoration: none;\n",
       "}\n",
       "\n",
       "div.sk-estimator.fitted:hover .sk-estimator-doc-link.fitted:hover,\n",
       ".sk-estimator-doc-link.fitted:hover,\n",
       "div.sk-label-container:hover .sk-estimator-doc-link.fitted:hover,\n",
       ".sk-estimator-doc-link.fitted:hover {\n",
       "  /* fitted */\n",
       "  background-color: var(--sklearn-color-fitted-level-3);\n",
       "  color: var(--sklearn-color-background);\n",
       "  text-decoration: none;\n",
       "}\n",
       "\n",
       "/* Span, style for the box shown on hovering the info icon */\n",
       ".sk-estimator-doc-link span {\n",
       "  display: none;\n",
       "  z-index: 9999;\n",
       "  position: relative;\n",
       "  font-weight: normal;\n",
       "  right: .2ex;\n",
       "  padding: .5ex;\n",
       "  margin: .5ex;\n",
       "  width: min-content;\n",
       "  min-width: 20ex;\n",
       "  max-width: 50ex;\n",
       "  color: var(--sklearn-color-text);\n",
       "  box-shadow: 2pt 2pt 4pt #999;\n",
       "  /* unfitted */\n",
       "  background: var(--sklearn-color-unfitted-level-0);\n",
       "  border: .5pt solid var(--sklearn-color-unfitted-level-3);\n",
       "}\n",
       "\n",
       ".sk-estimator-doc-link.fitted span {\n",
       "  /* fitted */\n",
       "  background: var(--sklearn-color-fitted-level-0);\n",
       "  border: var(--sklearn-color-fitted-level-3);\n",
       "}\n",
       "\n",
       ".sk-estimator-doc-link:hover span {\n",
       "  display: block;\n",
       "}\n",
       "\n",
       "/* \"?\"-specific style due to the `<a>` HTML tag */\n",
       "\n",
       "#sk-container-id-1 a.estimator_doc_link {\n",
       "  float: right;\n",
       "  font-size: 1rem;\n",
       "  line-height: 1em;\n",
       "  font-family: monospace;\n",
       "  background-color: var(--sklearn-color-background);\n",
       "  border-radius: 1rem;\n",
       "  height: 1rem;\n",
       "  width: 1rem;\n",
       "  text-decoration: none;\n",
       "  /* unfitted */\n",
       "  color: var(--sklearn-color-unfitted-level-1);\n",
       "  border: var(--sklearn-color-unfitted-level-1) 1pt solid;\n",
       "}\n",
       "\n",
       "#sk-container-id-1 a.estimator_doc_link.fitted {\n",
       "  /* fitted */\n",
       "  border: var(--sklearn-color-fitted-level-1) 1pt solid;\n",
       "  color: var(--sklearn-color-fitted-level-1);\n",
       "}\n",
       "\n",
       "/* On hover */\n",
       "#sk-container-id-1 a.estimator_doc_link:hover {\n",
       "  /* unfitted */\n",
       "  background-color: var(--sklearn-color-unfitted-level-3);\n",
       "  color: var(--sklearn-color-background);\n",
       "  text-decoration: none;\n",
       "}\n",
       "\n",
       "#sk-container-id-1 a.estimator_doc_link.fitted:hover {\n",
       "  /* fitted */\n",
       "  background-color: var(--sklearn-color-fitted-level-3);\n",
       "}\n",
       "</style><div id=\"sk-container-id-1\" class=\"sk-top-container\"><div class=\"sk-text-repr-fallback\"><pre>DecisionTreeClassifier(criterion=&#x27;log_loss&#x27;, max_depth=8, splitter=&#x27;random&#x27;)</pre><b>In a Jupyter environment, please rerun this cell to show the HTML representation or trust the notebook. <br />On GitHub, the HTML representation is unable to render, please try loading this page with nbviewer.org.</b></div><div class=\"sk-container\" hidden><div class=\"sk-item\"><div class=\"sk-estimator fitted sk-toggleable\"><input class=\"sk-toggleable__control sk-hidden--visually\" id=\"sk-estimator-id-1\" type=\"checkbox\" checked><label for=\"sk-estimator-id-1\" class=\"sk-toggleable__label fitted sk-toggleable__label-arrow\"><div><div>DecisionTreeClassifier</div></div><div><a class=\"sk-estimator-doc-link fitted\" rel=\"noreferrer\" target=\"_blank\" href=\"https://scikit-learn.org/1.6/modules/generated/sklearn.tree.DecisionTreeClassifier.html\">?<span>Documentation for DecisionTreeClassifier</span></a><span class=\"sk-estimator-doc-link fitted\">i<span>Fitted</span></span></div></label><div class=\"sk-toggleable__content fitted\"><pre>DecisionTreeClassifier(criterion=&#x27;log_loss&#x27;, max_depth=8, splitter=&#x27;random&#x27;)</pre></div> </div></div></div></div>"
      ],
      "text/plain": [
       "DecisionTreeClassifier(criterion='log_loss', max_depth=8, splitter='random')"
      ]
     },
     "execution_count": 17,
     "metadata": {},
     "output_type": "execute_result"
    }
   ],
   "source": [
    "import joblib as cloudEmail_phishLib\n",
    "cloudEmail_phishLib.dump(cloud_EmailMod, \"Email_DTModel3.h5\")\n",
    "cloud_EmailMod"
   ]
  }
 ],
 "metadata": {
  "colab": {
   "authorship_tag": "ABX9TyPkCcG2JKGeBAWy8f1QGhnb",
   "provenance": []
  },
  "kernelspec": {
   "display_name": "Python 3",
   "name": "python3"
  },
  "language_info": {
   "codemirror_mode": {
    "name": "ipython",
    "version": 3
   },
   "file_extension": ".py",
   "mimetype": "text/x-python",
   "name": "python",
   "nbconvert_exporter": "python",
   "pygments_lexer": "ipython3",
   "version": "3.9.0"
  }
 },
 "nbformat": 4,
 "nbformat_minor": 0
}
